{
 "cells": [
  {
   "cell_type": "markdown",
   "metadata": {},
   "source": [
    "<img src=cenapad.jpg align=left><BR><BR><BR><BR><BR><BR>\n",
    "<h1>Curso Introducción al Lenguaje Python<br>Programación Estructurada</h1>\n",
    "<img src=python-logo.png align=left>"
   ]
  },
  {
   "cell_type": "markdown",
   "metadata": {},
   "source": [
    "# 2.1 Primeros pasos hacia la programación¶"
   ]
  },
  {
   "cell_type": "markdown",
   "metadata": {},
   "source": [
    "Por supuesto, podemos usar Python para tareas más complicadas que sumar dos y dos. Por ejemplo, podemos escribir una subsecuencia inicial de la serie de Fibonacci así:"
   ]
  },
  {
   "cell_type": "code",
   "execution_count": null,
   "metadata": {},
   "outputs": [],
   "source": [
    "# Series de Fibonacci:\n",
    "# la suma de dos elementos define el siguiente\n",
    "a, b = 0, 1\n",
    "while b < 10:\n",
    "    print(b)\n",
    "    a, b = b, a+b"
   ]
  },
  {
   "cell_type": "code",
   "execution_count": null,
   "metadata": {},
   "outputs": [],
   "source": [
    "lista=[]\n",
    "a, b = 0, 1\n",
    "\n",
    "while b < 10:\n",
    "    lista.append(b)\n",
    "    a, b = b, a+b\n",
    "    \n",
    "print(lista)"
   ]
  },
  {
   "cell_type": "markdown",
   "metadata": {},
   "source": [
    "Este ejemplo introduce varias características nuevas.\n",
    "<ul>\n",
    "<li>La primer línea contiene una asignación múltiple: las variables a y b toman en forma simultanea los nuevos valores 0 y 1. En la última linea esto se vuelve a usar, demostrando que las expresiones a la derecha son evaluadas antes de que suceda cualquier asignación. Las expresiones a la derecha son evaluadas de izquierda a derecha.</li><br>\n",
    "\n",
    "<li>El bucle while se ejecuta mientras la condición (aquí: b < 10) sea verdadera. En Python, como en C, cualquier entero distinto de cero es verdadero; cero es falso. La condición también puede ser una cadena de texto o una lista, de hecho cualquier secuencia; cualquier cosa con longitud distinta de cero es verdadero, las secuencias vacías son falsas. La prueba usada en el ejemplo es una comparación simple.</li><br>\n",
    "\n",
    "<li>El cuerpo del bucle tiene sangría: Python utiliza 4 espacios para diferencias que se encuentra en un bucle o función. El interpretador permite la utilziación de 4 espacios o tabulación (tab) pero no mezclar ambos tipos, pues puede generar errores en la interpretación.</li><br>\n",
    "\n",
    "<li>La función print() escribe el valor de el o los argumentos que se le pasan. Difiere de simplemente escribir la expresión que se quiere mostrar en la forma en que maneja múltiples argumentos, cantidades en punto flotante, y cadenas. Las cadenas de texto son impresas sin comillas, y un espacio en blanco es insertado entre los elementos, así puedes formatear cosas de una forma agradable:</li>\n",
    "\n",
    "</ul>"
   ]
  },
  {
   "cell_type": "code",
   "execution_count": null,
   "metadata": {},
   "outputs": [],
   "source": [
    "i = 256 * 256\n",
    "print('El valor de i es', i)"
   ]
  },
  {
   "cell_type": "markdown",
   "metadata": {},
   "source": [
    "El parámetro nombrado end puede usarse para evitar el salto de linea al final de la salida, o terminar la salida con una cadena diferente:"
   ]
  },
  {
   "cell_type": "code",
   "execution_count": null,
   "metadata": {},
   "outputs": [],
   "source": [
    "lista = []\n",
    "a, b = 0, 1\n",
    "while b < 1000:\n",
    "    print(b, end=', ')\n",
    "    lista.append(b)\n",
    "    a, b = b, a+b"
   ]
  },
  {
   "cell_type": "code",
   "execution_count": null,
   "metadata": {},
   "outputs": [],
   "source": [
    "for elemento in lista:\n",
    "    print(elemento, end=\", \")"
   ]
  },
  {
   "cell_type": "markdown",
   "metadata": {},
   "source": [
    "Otros ejemplos de la utilización de <b>print</b>."
   ]
  },
  {
   "cell_type": "code",
   "execution_count": null,
   "metadata": {},
   "outputs": [],
   "source": [
    "print('Mercury', 'Venus', 'Earth', sep=', ')\n",
    "print('Mars', 'Jupiter', 'Saturn', sep=', ')\n",
    "print('Uranus', 'Neptune', 'Pluto', sep=', ')"
   ]
  },
  {
   "cell_type": "code",
   "execution_count": null,
   "metadata": {},
   "outputs": [],
   "source": [
    "print('Mercury', 'Venus', 'Earth', sep=', ', end='\\t\\t')\n",
    "print('Mars', 'Jupiter', 'Saturn', sep=', ', end='\\t\\t')\n",
    "print('Uranus', 'Neptune', 'Pluto', sep=', ')"
   ]
  },
  {
   "cell_type": "code",
   "execution_count": null,
   "metadata": {},
   "outputs": [],
   "source": [
    "print('Mercury', 'Venus', 'Earth', sep=', ')\n",
    "print('Mars', 'Jupiter', 'Saturn', sep=', ')\n",
    "print('Uranus', 'Neptune', 'Pluto', sep=', ')"
   ]
  },
  {
   "cell_type": "code",
   "execution_count": null,
   "metadata": {},
   "outputs": [],
   "source": [
    "print('Printing in a Nutshell', end='\\n * ')\n",
    "print('Calling Print', end='\\n * ')\n",
    "print('Separating Multiple Arguments', end='\\n * ')\n",
    "print('Preventing Line Breaks')"
   ]
  },
  {
   "cell_type": "markdown",
   "metadata": {},
   "source": [
    "Para más información sobre print visitar: https://realpython.com/python-print/"
   ]
  },
  {
   "cell_type": "markdown",
   "metadata": {},
   "source": [
    "# 2.2. Condicionales: if, elif y else"
   ]
  },
  {
   "cell_type": "markdown",
   "metadata": {},
   "source": [
    "La declaración if/elif/else funciona para controlar el fluxo de ejecución basandose en una o más condiciones. La sintaxis es la siguiente:"
   ]
  },
  {
   "cell_type": "code",
   "execution_count": null,
   "metadata": {},
   "outputs": [],
   "source": [
    "#No ejecute está célula\n",
    "if condicion:\n",
    "    comando1\n",
    "    comando2\n",
    "    ...\n",
    "    comandoN\n",
    "elif condicion:\n",
    "    comando1\n",
    "    comando2\n",
    "    ...\n",
    "    comandoN\n",
    "else:\n",
    "    comando1\n",
    "    comando2\n",
    "    ...\n",
    "    comandoN"
   ]
  },
  {
   "cell_type": "markdown",
   "metadata": {},
   "source": [
    "Observa la <b>IDENTACIÓN</b> que define los bloques de código, a diferencia de otros lenguajes que usan delimitadores como llaves tales como \"{\" y \"}\" o bloques con \"begin\" y \"end\".<br>\n",
    "\n",
    "Una buena práctica es usar <b>IDENTATION</b> con 4 espacios (primer nivel), 8 espacios (segundo nivel), etc.<br>\n",
    "\n",
    "<b>NO SE DEBÉN USAR TABULACIONES</b> (debido a las convenciones de portabilidad y legibilidad), aunque están permitidas.<br>\n",
    "\n",
    "<b>NUNCA se debe mezclar espacios con tabulaciones en el mismo programa.</b><br>\n",
    "\n",
    "IDENTATION en Python es obligatorio y forma parte de la sintaxis. La ventaja de esta característica es la legibilidad del código. La mayoría de los editores de código o IDE de desarrollo facilitarán el trabajo de IDENTACIÓN colocando espacios automáticamente si se encuentra dentro del contexto de un bloque de código."
   ]
  },
  {
   "cell_type": "markdown",
   "metadata": {},
   "source": [
    "#### Ejemplo de uso del condicional if elif else:"
   ]
  },
  {
   "cell_type": "code",
   "execution_count": null,
   "metadata": {},
   "outputs": [],
   "source": [
    "nombre = input(\"¿Cual es su nombre?:\")\n",
    "edad = int(input(\"¿Cual es su edad?:\")) #Ingrese un número entero\n",
    "grupo=\"\"\n",
    "\n",
    "if edad <= 12:\n",
    "    grupo = \"Infancia\"\n",
    "elif edad <= 18:\n",
    "    grupo = \"Adolescencia\"\n",
    "elif edad <= 26:\n",
    "    grupo = \"Juventud\"\n",
    "elif edad <= 65:\n",
    "    grupo = \"Adultez\"\n",
    "else:\n",
    "    grupo = \"Persona Mayor\"\n",
    "\n",
    "print(f\"Nombre: {nombre} - Edad: {edad} - Pertenece al grupo {grupo}.\")"
   ]
  },
  {
   "cell_type": "markdown",
   "metadata": {},
   "source": [
    "La palabra reservada ‘elif‘ es una abreviación de ‘else if’, y es útil para evitar un sangrado excesivo. Una secuencia if ... elif ... elif ... sustituye las sentencias switch o case encontradas en otros lenguajes.\n",
    "\n",
    "La declaración if/elif/else puede precisa tener  tener ninguún bloque elif, por ejemplo:"
   ]
  },
  {
   "cell_type": "code",
   "execution_count": null,
   "metadata": {},
   "outputs": [],
   "source": [
    "edad=21\n",
    "if edad<=17:\n",
    "    print(\"Menor de edad\")\n",
    "else:\n",
    "    print(\"Mayor de edad\")"
   ]
  },
  {
   "cell_type": "markdown",
   "metadata": {},
   "source": [
    "Es posible combinar condiones con otros operadores <b>and</b>, <b>not</b> y <b>or</b>."
   ]
  },
  {
   "cell_type": "code",
   "execution_count": null,
   "metadata": {},
   "outputs": [],
   "source": [
    "edad = 31\n",
    "if edad <= 12:\n",
    "    print(\"Infancia\")\n",
    "elif edad > 12 and edad < 21:\n",
    "    print(\"Adolescente\")\n",
    "elif edad>=21:\n",
    "    print(\"Adulto\")"
   ]
  },
  {
   "cell_type": "code",
   "execution_count": 1,
   "metadata": {},
   "outputs": [
    {
     "name": "stdout",
     "output_type": "stream",
     "text": [
      "Ingrese un número entero: 15\n",
      "Ingrese otro número entero: 36\n",
      "Por lo menos uno de los números es par\n"
     ]
    }
   ],
   "source": [
    "x = int(input(\"Ingrese un número entero: \"))\n",
    "y = int(input(\"Ingrese otro número entero: \"))\n",
    "if x%2==1 and y%2==1:\n",
    "    print(\"Ambos números son impares\")\n",
    "else:\n",
    "    print(\"Por lo menos uno de los números es par\")"
   ]
  },
  {
   "cell_type": "code",
   "execution_count": 2,
   "metadata": {},
   "outputs": [
    {
     "name": "stdout",
     "output_type": "stream",
     "text": [
      "Ingrese un número entero: 15\n",
      "Ingrese otro número entero: 15\n",
      "Por lo menos uno delos números es impar\n"
     ]
    }
   ],
   "source": [
    "x = int(input(\"Ingrese un número entero: \"))\n",
    "y = int(input(\"Ingrese otro número entero: \"))\n",
    "if x%2==1 or y%2==1:\n",
    "    print(\"Por lo menos uno delos números es impar\")\n",
    "else:\n",
    "    print(\"Ambos números son pares\")"
   ]
  },
  {
   "cell_type": "code",
   "execution_count": 3,
   "metadata": {},
   "outputs": [
    {
     "name": "stdout",
     "output_type": "stream",
     "text": [
      "3 es divisible por 3\n",
      "6 es divisible por 3\n",
      "9 es divisible por 3\n",
      "12 es divisible por 3\n",
      "15 es divisible por 3\n",
      "18 es divisible por 3\n",
      "21 es divisible por 3\n",
      "24 es divisible por 3\n",
      "27 es divisible por 3\n"
     ]
    }
   ],
   "source": [
    "num = list(range(1,30))\n",
    "for n in num:\n",
    "    if n%3==0:\n",
    "        print(f\"{n} es divisible por 3\")"
   ]
  },
  {
   "cell_type": "markdown",
   "metadata": {},
   "source": [
    "Alternativamente, en lugar de imprimir en la pantalla, podemos crear una lista con los números divisibles por 3 y luego imprimirla"
   ]
  },
  {
   "cell_type": "code",
   "execution_count": 4,
   "metadata": {},
   "outputs": [
    {
     "name": "stdout",
     "output_type": "stream",
     "text": [
      "[3, 6, 9, 12, 15, 18, 21, 24, 27]\n"
     ]
    }
   ],
   "source": [
    "num = list(range(1,30))\n",
    "num_div3=[] #Iniciando una lista vacia (Esto es necesario para que podemos usar el método append)\n",
    "for n in num:\n",
    "    if n%3==0:\n",
    "        num_div3.append(n)\n",
    "print(num_div3)"
   ]
  },
  {
   "cell_type": "markdown",
   "metadata": {},
   "source": [
    "### Ejercicio 1:\n",
    "\n",
    "Dado tres puntos en el plano expresados como coordenadas (x, y) informar cuál es el que se encuentra más lejos del centro de coordenadas."
   ]
  },
  {
   "cell_type": "code",
   "execution_count": 54,
   "metadata": {},
   "outputs": [
    {
     "name": "stdout",
     "output_type": "stream",
     "text": [
      "X1 = 1\n",
      "Y1 = 1\n",
      "X2 = 5\n",
      "Y2 = 6\n",
      "X3 = 2\n",
      "Y3 = 4\n",
      "La distancia mas grande es la del punto (5,6)\n"
     ]
    }
   ],
   "source": [
    "import math\n",
    "listX = []\n",
    "listY = []\n",
    "x1 = int(input(\"X1 = \"))\n",
    "listX.append(x1)\n",
    "y1 = int(input(\"Y1 = \"))\n",
    "listY.append(y1)\n",
    "x2 = int(input(\"X2 = \"))\n",
    "listX.append(x2)\n",
    "y2 = int(input(\"Y2 = \"))\n",
    "listY.append(y2)\n",
    "x3 = int(input(\"X3 = \"))\n",
    "listX.append(x3)\n",
    "y3 = int(input(\"Y3 = \"))\n",
    "listY.append(y3)\n",
    "\n",
    "may = 0\n",
    "punto = 0\n",
    "i = 0\n",
    "while i<3:\n",
    "    dist = math.sqrt(listX[i]**2 + listY[i]**2)\n",
    "    if(dist > may):\n",
    "        punto = i\n",
    "        may = dist\n",
    "    i += 1\n",
    "print(f\"La distancia mas grande es la del punto ({listX[punto]},{listY[punto]})\")\n",
    "    \n"
   ]
  },
  {
   "cell_type": "markdown",
   "metadata": {},
   "source": [
    "### Ejercicio 2:\n",
    "\n",
    "Escribir un programa que almacene la cadena de caracteres contraseña en una variable, pregunte al usuario por la contraseña e imprima por pantalla si la contraseña introducida por el usuario coincide con la guardada en la variable sin tener en cuenta mayúsculas y minúsculas.\n",
    "\n",
    "Sugerencia: utilizar la función lower.\n",
    "\n",
    "<b>Salida deseada:</b><br>\n",
    "La contaseña coincide<br>\n",
    "<br>\n",
    "La contraseña no coincide"
   ]
  },
  {
   "cell_type": "code",
   "execution_count": 10,
   "metadata": {},
   "outputs": [
    {
     "name": "stdout",
     "output_type": "stream",
     "text": [
      "Password: pass123\n",
      "La contrasena coincide\n"
     ]
    }
   ],
   "source": [
    "pass1 = 'pass123'\n",
    "pass2 = input(\"Password: \")\n",
    "if pass1 == pass2.lower():\n",
    "    print('La contrasena coincide')\n",
    "else:\n",
    "    print('La contrasena no coincide')\n"
   ]
  },
  {
   "cell_type": "markdown",
   "metadata": {},
   "source": [
    "### Ejercicio 3:\n",
    "\n",
    "Para tributar un determinado impuesto se debe ser mayor de 16 años y tener unos ingresos iguales o superiores a 2000 Bs mensuales. Escribir un programa que pregunte al usuario su edad y sus ingresos mensuales y muestre por pantalla si el usuario tiene que tributar o no.\n",
    "\n",
    "<b>Salida deseada:</b><br>\n",
    "Tienes que tributar<br>\n",
    "<br>\n",
    "No tienes que tributar"
   ]
  },
  {
   "cell_type": "code",
   "execution_count": 13,
   "metadata": {},
   "outputs": [
    {
     "name": "stdout",
     "output_type": "stream",
     "text": [
      "Edad: 49\n",
      "Ingresos: 6000\n",
      "Tienes que tributar\n"
     ]
    }
   ],
   "source": [
    "edad = int(input('Edad: '))\n",
    "ingresos = int(input('Ingresos: '))\n",
    "if edad > 16 and ingresos > 2000:\n",
    "    print(\"Tienes que tributar\")\n",
    "else:\n",
    "    print(\"No tienes que tributar\")\n"
   ]
  },
  {
   "cell_type": "markdown",
   "metadata": {},
   "source": [
    "### Ejercicio 4:\n",
    "\n",
    "Escriba un programa que pida dos números enteros y que calcule su división, escribiendo si la división es exacta o no. El programa debe tomar en cuenta que no se puede dividir por cero."
   ]
  },
  {
   "cell_type": "code",
   "execution_count": 15,
   "metadata": {},
   "outputs": [
    {
     "name": "stdout",
     "output_type": "stream",
     "text": [
      "Num: 5\n",
      "Div: 2\n",
      "La division no exacta\n"
     ]
    }
   ],
   "source": [
    "num = int(input(\"Num: \"))\n",
    "div = int(input(\"Div: \"))\n",
    "if div == 0:\n",
    "    print(\"No se puede dividir por 0\")\n",
    "elif num%div == 0:\n",
    "    print(\"La division es exacta\")\n",
    "else:\n",
    "    print(\"La division no es exacta\")\n"
   ]
  },
  {
   "cell_type": "markdown",
   "metadata": {},
   "source": [
    "### Ejercicio 5:\n",
    "\n",
    "Escriba un programa que pida año, mes y día y retorne cuantos días han pasado o faltan a la fecha actual."
   ]
  },
  {
   "cell_type": "code",
   "execution_count": 30,
   "metadata": {},
   "outputs": [
    {
     "name": "stdout",
     "output_type": "stream",
     "text": [
      "Ano: 1998\n",
      "Mes: 06\n",
      "Dia: 9\n",
      "Pasaron 7934 dias\n"
     ]
    }
   ],
   "source": [
    "from datetime import date\n",
    "ano = int(input(\"Ano: \"))\n",
    "mes = int(input(\"Mes: \"))\n",
    "dia = int(input(\"Dia: \"))\n",
    "hoy=date.today()\n",
    "fecha = date(ano,mes,dia)\n",
    "if hoy>fecha:\n",
    "    print(f'Pasaron {abs(hoy-fecha).days} dias')\n",
    "else:\n",
    "    print(f'Faltan {abs(fecha-hoy).days} dias')\n",
    "\n"
   ]
  },
  {
   "cell_type": "markdown",
   "metadata": {},
   "source": [
    "### Ejercicio 6:\n",
    "\n",
    "Escriba un programa que pida dos números enteros y que escriba si el mayor es múltiplo del menor. El programa debe avisar cuando se escriba valores negativos o nulos."
   ]
  },
  {
   "cell_type": "code",
   "execution_count": 31,
   "metadata": {},
   "outputs": [
    {
     "name": "stdout",
     "output_type": "stream",
     "text": [
      "N1 = 14\n",
      "N2 = 7\n",
      "El mayor es multiplo del menor\n"
     ]
    }
   ],
   "source": [
    "try:\n",
    "    n1 = int(input(\"N1 = \"))\n",
    "    n2 = int(input(\"N2 = \"))\n",
    "except ValueError:\n",
    "    print(\"Un valor es nulo\")\n",
    "\n",
    "mayor= max(n1, n2)\n",
    "menor= min(n1, n2)\n",
    "if n1 <= 0 or n2 <= 0:\n",
    "    print(\"Uno de los numeros es menor a 0\")\n",
    "elif mayor%menor == 0:\n",
    "    print(\"El mayor es multiplo del menor\")\n",
    "else:\n",
    "    print(\"El mayor no es multiplo del menor\")\n",
    "    "
   ]
  },
  {
   "cell_type": "markdown",
   "metadata": {},
   "source": [
    "### Ejercicio 7:\n",
    "\n",
    "Escriba un programa que pida los coeficientes de una ecuación de segundo grado (a x² + b x + c = 0) y escriba la solución.\n",
    "\n",
    "Se recuerda que una ecuación de segundo grado puede no tener solución (solución con números complejos), tener una solución única, tener dos soluciones o que todos los números sean solución. Se recuerda que la fórmula de las soluciones cuando hay dos soluciones es x = (-b ± √(b2-4ac) ) / (2a)\n",
    "\n",
    "En caso de no tener solución, hacer uso de la números complejos de Python.\n",
    "\n",
    "Más información en:<br>\n",
    "[1] https://relopezbriega.github.io/blog/2015/10/12/numeros-complejos-con-python/<br>\n",
    "[2] https://pybonacci.org/2014/02/04/como-separar-parte-real-e-imaginaria-en-sympy/\n",
    "\n",
    "<b>Salida deseada</b><br>\n",
    "ECUACIÓN A X² + B X + C = 0<br>\n",
    "Escriba el valor del coeficiente a: 2<br>\n",
    "Escriba el valor del coeficiente b: -7<br>\n",
    "Escriba el valor del coeficiente c: 3<br>\n",
    "La ecuación tiene dos soluciones: 3.0 y 0.5"
   ]
  },
  {
   "cell_type": "code",
   "execution_count": 32,
   "metadata": {},
   "outputs": [
    {
     "name": "stdout",
     "output_type": "stream",
     "text": [
      "ECUACIÓN A X² + B X + C = 0\n",
      "Escriba el valor del coeficiente a: 1\n",
      "Escriba el valor del coeficiente b: 1\n",
      "Escriba el valor del coeficiente c: 1\n",
      "La ecuacion tiene dos soluciones: -0.50+0.87j y -0.50-0.87j\n"
     ]
    }
   ],
   "source": [
    "import math\n",
    "print(\"ECUACIÓN A X² + B X + C = 0\")\n",
    "a = float(input(\"Escriba el valor del coeficiente a: \"))\n",
    "b = float(input(\"Escriba el valor del coeficiente b: \"))\n",
    "c = float(input(\"Escriba el valor del coeficiente c: \"))\n",
    "d = b**2 - 4*a*c\n",
    "if d==0:\n",
    "    sol = (-b)/(2*a)\n",
    "    print(f\"La ecuacion tiene una solucion: {sol:.2f}\")\n",
    "elif d>0:\n",
    "    sol1= ((-b)+ math.sqrt(d))/(2*a)\n",
    "    sol2= ((-b)- math.sqrt(d))/(2*a)\n",
    "    print(f\"La ecuacion tiene dos soluciones: {sol1:.2f} y {sol2:.2f}\")\n",
    "else: \n",
    "    com1 = complex(-b, math.sqrt(-d))\n",
    "    com2 = complex(-b, -math.sqrt(-d))\n",
    "    sol1 = (com1)/((2*a) +0j)\n",
    "    sol2= (com2)/((2*a) +0j)\n",
    "    print(f\"La ecuacion tiene dos soluciones: {sol1:.2f} y {sol2:.2f}\")\n",
    "\n"
   ]
  },
  {
   "cell_type": "markdown",
   "metadata": {},
   "source": [
    "### Ejercicio 8:\n",
    "\n",
    "Escriba un programa que pregunte primero si se quiere calcular el área de un triángulo o la de un círculo. Si se contesta que se quiere calcular el área de un triángulo (escribiendo T o t), el programa tiene que pedir entonces la base y la altura y escribir el área. Si se contesta que se quiere calcular el área de un círculo (escribiendo C o c), el programa tiene que pedir entonces el radio y escribir el área.\n",
    "\n",
    "Se recuerda que el área de un triángulo es base por altura dividido por 2 y que el área de un círculo es Pi (aproximadamente 3,141592) por el radio al cuadrado. Utilizar 2 decimales para la salida.\n",
    "\n",
    "Nota: Utilice la libreria math para obtener la función pi.\n",
    "\n",
    "<b>Salida deseada:</b><br>\n",
    "CÁLCULO DE ÁREAS<br>\n",
    "Elija una figura geométrica:<br>\n",
    "a) Triángulo<br>\n",
    "b) Círculo<br>\n",
    "¿Qué figura quiere calcular (Escriba T o C)? T<br>\n",
    "Escriba la base: 3<br>\n",
    "Escriba la altura: 5.5<br>\n",
    "Un triángulo de base 3.0 y altura 5.0 tiene un área de 8.25<br>\n",
    "<br>\n",
    "CÁLCULO DE ÁREAS<br>\n",
    "Elija una figura geométrica:<br>\n",
    "a) Triángulo<br>\n",
    "b) Círculo<br>\n",
    "¿Qué figura quiere calcular (Escriba T o C)? C<br>\n",
    "Escriba el radio: 2<br>\n",
    "Un círculo de radio 2.0 tiene un área de 12.57<br>"
   ]
  },
  {
   "cell_type": "code",
   "execution_count": 1,
   "metadata": {},
   "outputs": [
    {
     "name": "stdout",
     "output_type": "stream",
     "text": [
      "CÁLCULO DE ÁREAS \n",
      "Elija una figura geométrica:\n",
      "a) Triángulo\n",
      "b) Círculo \n",
      "¿Qué figura quiere calcular (Escriba T o C)?c\n",
      "Escriba el radio: 2\n",
      "Un circulo de radio 2.00 tiene un area de 12.57\n"
     ]
    }
   ],
   "source": [
    "import math\n",
    "print(\"\"\"CÁLCULO DE ÁREAS \n",
    "Elija una figura geométrica:\n",
    "a) Triángulo\n",
    "b) Círculo \"\"\")\n",
    "figura = input(\"¿Qué figura quiere calcular (Escriba T o C)?\")\n",
    "if figura.lower() == \"t\":\n",
    "    base = float(input(\"Escriba la base: \"))\n",
    "    alto = float(input(\"Escriba la altura: \"))\n",
    "    area = (base*alto) /2\n",
    "    print(f'Un triangulo de base {base:.2f} y altura {alto:.2f} tiene un area de {area:.2f}')\n",
    "elif figura.lower() == \"c\":\n",
    "    radio = float(input(\"Escriba el radio: \"))\n",
    "    area = radio**2 * math.pi\n",
    "    print(f'Un circulo de radio {radio:.2f} tiene un area de {area:.2f}')\n",
    "else:\n",
    "    print(\"Respuesta incorrecta\")\n"
   ]
  },
  {
   "cell_type": "markdown",
   "metadata": {},
   "source": [
    "# 2.3. La Sentencia for\n",
    "\n",
    "La sentencia <b>for</b> en Python difiere un poco de lo que uno puede estar acostumbrado en lenguajes como C o Pascal. En lugar de siempre iterar sobre una progresión aritmética de números (como en Pascal) o darle al usuario la posibilidad de definir tanto el paso de la iteración como la condición de fin (como en C), la sentencia <b>for</b> de Python itera sobre los ítems de cualquier secuencia (una lista o una cadena de texto), en el orden que aparecen en la secuencia. Por ejemplo:"
   ]
  },
  {
   "cell_type": "code",
   "execution_count": 1,
   "metadata": {},
   "outputs": [
    {
     "name": "stdout",
     "output_type": "stream",
     "text": [
      "gato 4\n",
      "ventana 7\n",
      "defenestrado 12\n"
     ]
    }
   ],
   "source": [
    "# Midiendo cadenas de texto\n",
    "palabras = ['gato', 'ventana', 'defenestrado']\n",
    "for p in palabras:\n",
    "    print(p, len(p))"
   ]
  },
  {
   "cell_type": "markdown",
   "metadata": {},
   "source": [
    "Si necesitá modificar la secuencia sobre la que estás iterando mientras estás adentro del ciclo (por ejemplo para borrar algunos ítems), se recomienda que hagas primero una copia. Iterar sobre una secuencia no hace implícitamente una copia. La notación abajo es especialmente conveniente para esto:"
   ]
  },
  {
   "cell_type": "code",
   "execution_count": null,
   "metadata": {},
   "outputs": [],
   "source": [
    "for p in palabras[:]:  # hace una copiade toda la lista\n",
    "    if len(p) > 6:\n",
    "        palabras.insert(0, p)\n",
    "\n",
    "print(palabras)"
   ]
  },
  {
   "cell_type": "markdown",
   "metadata": {},
   "source": [
    "Con for w in words:, el ejemplo intentaría crear una lista infinita, insertando defenestrado una y otra vez.<br>\n",
    "\n",
    "Un bucle <b>for</b> funciona como un iterador. Un <b>for</b> se utiliza para realizar acciones sobre elementos de una secuencia o cualquier elemento iterable, como cadenas, listas y otros objetos iterables que veremos más adelante.\n",
    "\n",
    "<b>Formato general para una declaración for</b>\n",
    "\n",
    "for item in object:<br>\n",
    "&nbsp;&nbsp;&nbsp;&nbsp;statements to do stuff\n",
    "\n",
    "También es común usar un rango como iterable en un <b>for</b>\n",
    "\n",
    "for i in range(0,10):<br>\n",
    "&nbsp;&nbsp;&nbsp;&nbsp;hace alguna cosa con i"
   ]
  },
  {
   "cell_type": "markdown",
   "metadata": {},
   "source": [
    "#### Ejemplo. El complemento de una secuencia de ADN se obtiene reemplazando todo As con Ts, Ts con As, Gs con Cs y Cs con Gs por Gs"
   ]
  },
  {
   "cell_type": "code",
   "execution_count": 2,
   "metadata": {},
   "outputs": [
    {
     "data": {
      "text/plain": [
       "'AGCAGGTGCGAGTAGCAGTAGCA'"
      ]
     },
     "execution_count": 2,
     "metadata": {},
     "output_type": "execute_result"
    }
   ],
   "source": [
    "dna = \"AGCAGGTGCGAGTAGCAGTAGCA\"\n",
    "dna"
   ]
  },
  {
   "cell_type": "code",
   "execution_count": 3,
   "metadata": {},
   "outputs": [
    {
     "name": "stdout",
     "output_type": "stream",
     "text": [
      "TCGTCCACGCTCATCGTCATCGT\n"
     ]
    }
   ],
   "source": [
    "#Transformar todas las A's en Ts, Ts en As, Gs en Cs y Cs en Gs\n",
    "complemento=\"\"  #Iniciando string vacia\n",
    "for x in dna:  #A cada iteración en este bucle, x será una letra del dna\n",
    "    if x==\"G\":  #Si x fuera G, concatena la string complemento con un C\n",
    "        complemento = complemento + \"C\"\n",
    "    elif x==\"C\": #Si x fuera C, concatena la string complemento con un T\n",
    "        complemento = complemento + \"G\"\n",
    "    elif x == \"A\":\n",
    "        complemento = complemento + \"T\"\n",
    "    elif x == \"T\":\n",
    "        complemento = complemento + \"A\"\n",
    "        \n",
    "print(complemento)"
   ]
  },
  {
   "cell_type": "markdown",
   "metadata": {},
   "source": [
    "<b>join</b> es un método de la clase string que concatena una cadena con las cadenas de una lista.<br><br>\n",
    "<b>reversed</b> devuelve una lista o cadena invertida.<br><br>\n",
    "Vamos a invertir una string y usar el método de join para formar una nueva cadena con el inverso complementario de la secuencia de DNA."
   ]
  },
  {
   "cell_type": "code",
   "execution_count": 7,
   "metadata": {},
   "outputs": [
    {
     "name": "stdout",
     "output_type": "stream",
     "text": [
      "DNA=AGCAGGTGCGAGTAGCAGTAGCA\n",
      "REVCOMP=TGCTACTGCTACTCGCACCTGCT\n",
      "TGCTACTGCTACTCGCACCTGCT\n"
     ]
    }
   ],
   "source": [
    "reverso_complementar = ''.join(reversed(complemento)) #conatena la string vacia '' con el complemento invertido\n",
    "print(f\"DNA={dna}\\nREVCOMP={reverso_complementar}\")\n",
    "print(complemento[::-1])"
   ]
  },
  {
   "cell_type": "code",
   "execution_count": 8,
   "metadata": {},
   "outputs": [
    {
     "name": "stdout",
     "output_type": "stream",
     "text": [
      "Caracter de índice 0 é um A\n",
      "Caracter de índice 1 é um G\n",
      "Caracter de índice 2 é um C\n",
      "Caracter de índice 3 é um A\n",
      "Caracter de índice 4 é um G\n",
      "Caracter de índice 5 é um G\n",
      "Caracter de índice 6 é um T\n",
      "Caracter de índice 7 é um G\n",
      "Caracter de índice 8 é um C\n",
      "Caracter de índice 9 é um G\n",
      "Caracter de índice 10 é um A\n",
      "Caracter de índice 11 é um G\n",
      "Caracter de índice 12 é um T\n",
      "Caracter de índice 13 é um A\n",
      "Caracter de índice 14 é um G\n",
      "Caracter de índice 15 é um C\n",
      "Caracter de índice 16 é um A\n",
      "Caracter de índice 17 é um G\n",
      "Caracter de índice 18 é um T\n",
      "Caracter de índice 19 é um A\n",
      "Caracter de índice 20 é um G\n",
      "Caracter de índice 21 é um C\n",
      "Caracter de índice 22 é um A\n"
     ]
    }
   ],
   "source": [
    "for i in range(len(dna)):\n",
    "    print(f\"Caracter de índice {i} é um {dna[i]}\")"
   ]
  },
  {
   "cell_type": "code",
   "execution_count": 9,
   "metadata": {},
   "outputs": [
    {
     "name": "stdout",
     "output_type": "stream",
     "text": [
      "Caracter de índice 0 é um A\n",
      "Caracter de índice 1 é um G\n",
      "Caracter de índice 2 é um C\n",
      "Caracter de índice 3 é um A\n",
      "Caracter de índice 4 é um G\n",
      "Caracter de índice 5 é um G\n",
      "Caracter de índice 6 é um T\n",
      "Caracter de índice 7 é um G\n",
      "Caracter de índice 8 é um C\n",
      "Caracter de índice 9 é um G\n",
      "Caracter de índice 10 é um A\n",
      "Caracter de índice 11 é um G\n",
      "Caracter de índice 12 é um T\n",
      "Caracter de índice 13 é um A\n",
      "Caracter de índice 14 é um G\n",
      "Caracter de índice 15 é um C\n",
      "Caracter de índice 16 é um A\n",
      "Caracter de índice 17 é um G\n",
      "Caracter de índice 18 é um T\n",
      "Caracter de índice 19 é um A\n",
      "Caracter de índice 20 é um G\n",
      "Caracter de índice 21 é um C\n",
      "Caracter de índice 22 é um A\n"
     ]
    }
   ],
   "source": [
    "#El ciclo for anterior también se puede hacer usando la función enumerate\n",
    "for i,x in enumerate(dna):\n",
    "    print(f\"Caracter de índice {i} é um {x}\")"
   ]
  },
  {
   "cell_type": "markdown",
   "metadata": {},
   "source": [
    "### Ejercicio 9:\n",
    "\n",
    "Escriba un programa que pida un número de dados y muestre los valores de ese número de dados, al azar.\n",
    "\n",
    "Nota. Utilizar la libreria random.\n",
    "Más información en:\n",
    "[1] https://stackoverflow.com/questions/3996904/generate-random-integers-between-0-and-9\n",
    "\n",
    "<b>Salida deseada:</b><br><br>\n",
    "TIRADA DE DADOS<br>\n",
    "Número de dados: 0<br>\n",
    "¡Imposible!<br>\n",
    "<br>\n",
    "TIRADA DE DADOS<br>\n",
    "Número de dados:  5<br>\n",
    "Dados: 3 5 1 1 3<br>"
   ]
  },
  {
   "cell_type": "code",
   "execution_count": 13,
   "metadata": {},
   "outputs": [
    {
     "name": "stdout",
     "output_type": "stream",
     "text": [
      "TIRADA DE DADOS\n",
      "Numero de dados: 6\n",
      "Dados: \n",
      "5 5 1 4 6 3 "
     ]
    }
   ],
   "source": [
    "from random import randrange\n",
    "print(\"TIRADA DE DADOS\")\n",
    "numDados = int(input(\"Numero de dados: \"))\n",
    "if numDados <= 0:\n",
    "    print(\"imposible\")\n",
    "else:\n",
    "    print(\"Dados: \")\n",
    "    for i in range(0,numDados):\n",
    "        print(randrange(1,7), end = \" \")"
   ]
  },
  {
   "cell_type": "markdown",
   "metadata": {},
   "source": [
    "### Ejercicio 10:\n",
    "\n",
    "Escriba un programa que pida un número de jugadores y tire un dado para cada jugador. El jugador que tire el mayor dado ganará el juego.\n",
    "\n",
    "<b>Salida deseada:</b><br><br>\n",
    "TIRADAS DE DADO<br>\n",
    "Número de jugadores: 1<br>\n",
    "¡Imposible!<br>\n",
    "<br>\n",
    "TIRADAS DE DADO<br>\n",
    "Número de jugadores: 4<br>\n",
    "Jugador 1: 3<br>\n",
    "Jugador 2: 3<br>\n",
    "Jugador 3: 5<br>\n",
    "Jugador 4: 1<br>\n",
    "El ganador es el Jugador 3.<br>\n",
    "<br>\n",
    "TIRADAS DE DADO<br>\n",
    "Número de jugadores: 3<br>\n",
    "Jugador 1: 4<br>\n",
    "Jugador 2: 4<br>\n",
    "Jugador 3: 1<br>\n",
    "Los ganadores son el Jugador 1, Jugador 2."
   ]
  },
  {
   "cell_type": "code",
   "execution_count": 38,
   "metadata": {},
   "outputs": [
    {
     "name": "stdout",
     "output_type": "stream",
     "text": [
      "TIRADAs DE DADOS\n",
      "Numero de jugadores: 2\n",
      "Jugador 1: 2\n",
      "Jugador 2: 4\n",
      "El ganador es el Jugador 2\n"
     ]
    }
   ],
   "source": [
    "from random import randrange\n",
    "print(\"TIRADAs DE DADOS\")\n",
    "numJug = int(input(\"Numero de jugadores: \"))\n",
    "dados=[]\n",
    "if numJug <= 1:\n",
    "    print(\"¡Imposible!\")\n",
    "else:\n",
    "    for i in range(0,numJug):\n",
    "        dadoJ = randrange(1,7)\n",
    "        dados.append(dadoJ)\n",
    "        print(f\"Jugador {i+1}: {dadoJ}\" )\n",
    "    mayorDado = max(dados)\n",
    "    ganadores = []\n",
    "    for i, x in enumerate(dados):\n",
    "        if x == mayorDado:\n",
    "            ganadores.append(i)\n",
    "    if len(ganadores) > 1:\n",
    "        print(\"Los ganadores son el \", end = \"\")\n",
    "        for i in ganadores:\n",
    "            if (len(ganadores)-1) == i:\n",
    "                print(f\"Jugador {i+1}\", end=\". \")\n",
    "            else:\n",
    "                print(f\"Jugador {i+1}\", end=\", \")\n",
    "    else:\n",
    "        print(f\"El ganador es el Jugador {ganadores[0]+1}\")\n",
    "            \n",
    "            \n",
    "            \n"
   ]
  },
  {
   "cell_type": "markdown",
   "metadata": {},
   "source": [
    "### Ejercicio 11:\n",
    "\n",
    "Escriba un programa que pida un número de dados y tire esa cantidad de dados. El primer jugador obtiene un punto por cada dado par. El segundo jugador obtiene un punto por cada dado impar. El jugador que saque más puntos, gana.\n",
    "\n",
    "<b>Salida deseada:</b><br><br>\n",
    "PARES Y NONES<br>\n",
    "Número de dados: 0<br>\n",
    "¡Imposible!<br>\n",
    "<br>\n",
    "PARES Y NONES<br>\n",
    "Número de dados: 7<br>\n",
    "Dados: 4 5 2 3 2 1 6<br>\n",
    "Ha ganado el jugador de los pares.<br>\n",
    "<br>\n",
    "PARES Y NONES<br>\n",
    "Número de dados: 8<br>\n",
    "Dados: 1 4 1 3 5 6 6 2<br>\n",
    "Han empatado."
   ]
  },
  {
   "cell_type": "code",
   "execution_count": 32,
   "metadata": {},
   "outputs": [
    {
     "name": "stdout",
     "output_type": "stream",
     "text": [
      "PARES Y NONES\n",
      "Numero de jugadores: 10\n",
      "Dados: 1 6 6 2 6 4 5 5 2 2 \n",
      " Ha ganado el jugador de los pares.\n"
     ]
    }
   ],
   "source": [
    "from random import randrange\n",
    "print(\"PARES Y NONES\")\n",
    "numDados = int(input(\"Numero de dados: \"))\n",
    "if numDados <= 0:\n",
    "    print(\"¡Imposible!\")\n",
    "else:\n",
    "    puntajeJ1 = 0\n",
    "    puntajeJ2 = 0\n",
    "    print(\"Dados: \" , end = \"\")\n",
    "    for i in range(0,numDados):\n",
    "        dado = randrange(1,7)\n",
    "        print(dado, end = \" \")\n",
    "        if dado%2 == 0:\n",
    "            puntajeJ1 += 1\n",
    "        else:\n",
    "            puntajeJ2 += 1\n",
    "    if puntajeJ1 > puntajeJ2:\n",
    "        print(\"\\nHa ganado el jugador de los pares.\")\n",
    "    else:\n",
    "        print(\"\\nHa ganado el jugador de los impares.\")\n",
    "        \n",
    "        \n",
    "    "
   ]
  },
  {
   "cell_type": "markdown",
   "metadata": {},
   "source": [
    "### Ejercicio 12:\n",
    "\n",
    "Escriba un programa que pida un número de dados y tire esa cantidad de dados. Si no salen dos dados iguales seguidos, el jugador gana. Si salen, pierde.\n",
    "\n",
    "<b>Salida deseada:</b><br><br>\n",
    "DADOS IGUALES<br>\n",
    "Número de dados: 1<br>\n",
    "¡Imposible!<br>\n",
    "<br>\n",
    "DADOS IGUALES<br>\n",
    "Número de dados: 6<br>\n",
    "Dados: 3 1 1 4 6 2<br>\n",
    "El jugador ha perdido.<br>\n",
    "<br>\n",
    "DADOS IGUALES<br>\n",
    "Número de dados: 4<br>\n",
    "Dados: 4 2 5 3<br>\n",
    "El jugador ha ganado.<br>"
   ]
  },
  {
   "cell_type": "code",
   "execution_count": 42,
   "metadata": {},
   "outputs": [
    {
     "name": "stdout",
     "output_type": "stream",
     "text": [
      "DADOS IGUALES\n",
      "Numero de dados: 3\n",
      "Dados: 3 1 4 \n",
      "El jugador ha ganado.\n"
     ]
    }
   ],
   "source": [
    "from random import randrange\n",
    "print(\"DADOS IGUALES\")\n",
    "numDados = int(input(\"Numero de dados: \"))\n",
    "if numDados <= 1:\n",
    "    print(\"¡Imposible!\")\n",
    "else:\n",
    "    print(\"Dados: \" , end = \"\")\n",
    "    ganar = True\n",
    "    prevD = 7\n",
    "    for i in range(0,numDados):\n",
    "        dado = randrange(1,7)\n",
    "        print(dado, end = \" \")\n",
    "        if dado == prevD:\n",
    "            ganar = False\n",
    "        else:\n",
    "            prevD = dado\n",
    "    if ganar:\n",
    "        print(\"\\nEl jugador ha ganado.\")\n",
    "    else:\n",
    "        print(\"\\nEl jugador ha perdido.\")\n",
    "        "
   ]
  },
  {
   "cell_type": "markdown",
   "metadata": {},
   "source": [
    "### Ejercicio 13:\n",
    "\n",
    "Escribir un programa que pregunte al usuario una cantidad a invertir, el interés anual y el número de años, y muestre por pantalla el capital obtenido en la inversión cada año que dura la inversión.\n",
    "\n",
    "<b>Salida deseada:</b><br><br>\n",
    "¿Cantidad a invertir?  1000<br>\n",
    "¿Interés porcentual anual?  10<br>\n",
    "¿Años? 5<br>\n",
    "Capital tras 1 años: 1100.00<br>\n",
    "Capital tras 2 años: 1210.00<br>\n",
    "Capital tras 3 años: 1331.00<br>\n",
    "Capital tras 4 años: 1464.10<br>\n",
    "Capital tras 5 años: 1610.51<br>"
   ]
  },
  {
   "cell_type": "code",
   "execution_count": 44,
   "metadata": {},
   "outputs": [
    {
     "name": "stdout",
     "output_type": "stream",
     "text": [
      "¿Cantidad a invertir?200\n",
      "¿Interés porcentual anual?5\n",
      "¿Anos?7\n",
      "Capital tras 1 anos: 210.00\n",
      "Capital tras 2 anos: 220.50\n",
      "Capital tras 3 anos: 231.53\n",
      "Capital tras 4 anos: 243.10\n",
      "Capital tras 5 anos: 255.26\n",
      "Capital tras 6 anos: 268.02\n",
      "Capital tras 7 anos: 281.42\n"
     ]
    }
   ],
   "source": [
    "invertir = float(input(\"¿Cantidad a invertir?\"))\n",
    "interes = float(input(\"¿Interés porcentual anual?\"))\n",
    "anos = int(input(\"¿Anos?\"))\n",
    "if invertir < 0 or interes < 0 or anos < 0:\n",
    "    print(\"Imposible\")\n",
    "else:\n",
    "    interes = interes/100\n",
    "    for i in range(0,anos):\n",
    "        invertir = invertir + invertir*interes\n",
    "        print(f\"Capital tras {i+1} anos: {invertir:.2f}\")"
   ]
  },
  {
   "cell_type": "markdown",
   "metadata": {},
   "source": [
    "# Ejercicio 14:\n",
    "\n",
    "Escribir un programa que pida al usuario un número entero y muestre por pantalla un triángulo rectángulo (\"* \") como el de más abajo, de altura el número introducido.\n",
    "\n",
    "<b>Salida deseada:</b><br><br>\n",
    "Introduce la altura del triángulo (entero positivo) 5<br>\n",
    "*<br>\n",
    "\\* *<br>\n",
    "\\* * *<br>\n",
    "\\* * * *<br>\n",
    "\\* * * * * "
   ]
  },
  {
   "cell_type": "code",
   "execution_count": 45,
   "metadata": {},
   "outputs": [
    {
     "name": "stdout",
     "output_type": "stream",
     "text": [
      "Introduce la altura del triángulo (entero positivo)5\n",
      "\n",
      "*\n",
      "**\n",
      "***\n",
      "****\n",
      "*****"
     ]
    }
   ],
   "source": [
    "puntos = int(input(\"Introduce la altura del triángulo (entero positivo)\"))\n",
    "if puntos <= 0:\n",
    "    print(\"Imposible\")\n",
    "else:\n",
    "    for i in range(0,puntos):\n",
    "        print(\"\")\n",
    "        for y in range(0,i+1):\n",
    "            print(\"*\", end = \"\")"
   ]
  },
  {
   "cell_type": "markdown",
   "metadata": {},
   "source": [
    "### Ejercicio 15:\n",
    "\n",
    "Escribir un programa que pida al usuario un número entero y muestre por pantalla un triángulo rectángulo como el de más abajo.\n",
    "\n",
    "<b>Salida deseada:</b><br><br>\n",
    "Introduce la altura del triángulo (entero positivo):  9<br>\n",
    "\n",
    "1 <br>\n",
    "3 1 <br>\n",
    "5 3 1 <br>\n",
    "7 5 3 1 <br>\n",
    "9 7 5 3 1"
   ]
  },
  {
   "cell_type": "code",
   "execution_count": 19,
   "metadata": {},
   "outputs": [
    {
     "name": "stdout",
     "output_type": "stream",
     "text": [
      "Introduce la altura del triángulo (entero positivo): 6\n",
      "1 \n",
      "3 1 \n",
      "5 3 1 \n"
     ]
    }
   ],
   "source": [
    "altura = int(input(\"Introduce la altura del triángulo (entero positivo): \"))\n",
    "if altura <= 0:\n",
    "    print(\"Imposible\")\n",
    "else:\n",
    "    lista = list(range(1,altura+1))[::2]\n",
    "    for i in range(0,len(lista)):\n",
    "        for y in range(i,-1,-1):\n",
    "            print(lista[y], end = \" \")\n",
    "        print(\"\")"
   ]
  },
  {
   "cell_type": "markdown",
   "metadata": {},
   "source": [
    "### Ejercicio 16:\n",
    "\n",
    "Escriba un programa que pida un número entero mayor que cero y que escriba sus divisores.\n",
    "\n",
    "<b>Salida deseada:</b><br><br>\n",
    "DIVISORES<br>\n",
    "Escriba un número mayor que cero: -5<br>\n",
    "¡Le he pedido un número entero mayor que cero!<br>\n",
    "<br>\n",
    "DIVISORES<br>\n",
    "Escriba un número entero mayor que cero: 200<br>\n",
    "Los divisores de 200 son 1 2 4 5 8 10 20 25 40 50 100 200"
   ]
  },
  {
   "cell_type": "code",
   "execution_count": 21,
   "metadata": {},
   "outputs": [
    {
     "name": "stdout",
     "output_type": "stream",
     "text": [
      "Divisores\n",
      "Escriba un número mayor que cero: 521\n",
      "Los divisores de 521 son: 1 521 "
     ]
    }
   ],
   "source": [
    "print(\"Divisores\")\n",
    "num = int(input(\"Escriba un número mayor que cero: \"))\n",
    "if num <= 0:\n",
    "    print(\"¡Le he pedido un número entero mayor que cero!\")\n",
    "else:\n",
    "    print(f\"Los divisores de {num} son:\", end = \" \")\n",
    "    for i in range(1,num+1):\n",
    "        if num % i == 0:\n",
    "            print(i, end=\" \")\n",
    "            \n"
   ]
  },
  {
   "cell_type": "markdown",
   "metadata": {},
   "source": [
    "### Ejercicio 17:\n",
    "\n",
    "Escribir un programa que pida al usuario un número entero y muestre por pantalla un triángulo rectángulo como el de número de primos.\n",
    "\n",
    "<b>Salida deseada:</b><br><br>\n",
    "Introduce la altura del triángulo (entero positivo):  20<br>\n",
    "\n",
    "1 <br>\n",
    "3 1 <br>\n",
    "5 3 1 <br>\n",
    "7 5 3 1 <br>\n",
    "11 7 5 3 1 <br>\n",
    "13 11 7 5 3 1 <br>\n",
    "17 13 11 7 5 3 1 <br>\n",
    "19 17 13 11 7 5 3 1"
   ]
  },
  {
   "cell_type": "code",
   "execution_count": 25,
   "metadata": {},
   "outputs": [
    {
     "name": "stdout",
     "output_type": "stream",
     "text": [
      "Introduce la altura del triángulo (entero positivo): 25\n",
      "2 \n",
      "3 2 \n",
      "5 3 2 \n",
      "7 5 3 2 \n",
      "11 7 5 3 2 \n",
      "13 11 7 5 3 2 \n",
      "17 13 11 7 5 3 2 \n",
      "19 17 13 11 7 5 3 2 \n",
      "23 19 17 13 11 7 5 3 2 \n"
     ]
    }
   ],
   "source": [
    "altura = int(input(\"Introduce la altura del triángulo (entero positivo): \"))\n",
    "if altura <= 0:\n",
    "    print(\"Imposible\")\n",
    "else:\n",
    "    primos= [2]\n",
    "    for i in range(3,altura+1):\n",
    "        primo = True\n",
    "        for y in range(2,i):\n",
    "            if i % y == 0:\n",
    "                primo = False\n",
    "                break\n",
    "        if primo:\n",
    "            primos.append(i)\n",
    "    for i in range(0,len(primos)):\n",
    "        for y in range(i,-1,-1):\n",
    "            print(primos[y], end = \" \")\n",
    "        print(\"\")\n",
    "    "
   ]
  },
  {
   "cell_type": "markdown",
   "metadata": {},
   "source": [
    "### Ejercicio 18:\n",
    "\n",
    "Escriba un programa que pida dos números enteros y escriba la suma de todos los enteros desde el primer número hasta el segundo.\n",
    "\n",
    "<b>Salida deseada:</b><br><br>\n",
    "SUMA ENTRE VALORES<br>\n",
    "Escriba un número entero positivo: -5<br>\n",
    "¡Le he pedido un número entero positivo!<br>\n",
    "<br>\n",
    "SUMA ENTRE VALORES<br>\n",
    "Escriba un número entero positivo: 7<br>\n",
    "Escriba un número entero mayor que 7: 7<br>\n",
    "¡Le he pedido un número entero mayor que 7!<br>\n",
    "<br>\n",
    "SUMA ENTRE VALORES<br>\n",
    "Escriba un número entero positivo: 30<br>\n",
    "Escriba un número entero mayor que 30: 32<br>\n",
    "30 + 31 + 32 = 93<br>"
   ]
  },
  {
   "cell_type": "code",
   "execution_count": 28,
   "metadata": {},
   "outputs": [
    {
     "name": "stdout",
     "output_type": "stream",
     "text": [
      "Escriba un número entero positivo: -1\n",
      "¡Le he pedido un número entero positivo!\n"
     ]
    }
   ],
   "source": [
    "num1 = int(input(\"Escriba un número entero positivo: \"))\n",
    "if num1 <= 0:\n",
    "    print(\"¡Le he pedido un número entero positivo!\")\n",
    "else:\n",
    "    num2 = int(input(f\"Escriba un número entero mayor que {num1}: \"))\n",
    "    if num2 < num1:\n",
    "        print(f\"¡Le he pedido un número entero mayor que {num1}!\")\n",
    "    else:\n",
    "        suma = 0\n",
    "        for i in range(num1,num2+1):\n",
    "            suma += i\n",
    "            if i == num2:\n",
    "                print(f\"{i} = \", end = \" \")\n",
    "            else:\n",
    "                print(f\"{i} + \", end = \" \")\n",
    "        \n",
    "        print(suma)"
   ]
  },
  {
   "cell_type": "markdown",
   "metadata": {},
   "source": [
    "### Ejercicio 19:\n",
    "\n",
    "Escriba un programa que pida un número entero mayor que cero y calcule su factorial.\n",
    "\n",
    "<b>Salida deseada:</b><br><br>\n",
    "FACTORIAL<br>\n",
    "Escriba un número entero mayor que cero: -5<br>\n",
    "¡Le he pedido un número entero mayor que cero!<br>\n",
    "<br>\n",
    "FACTORIAL<br>\n",
    "Escriba un número entero mayor que cero: 5<br>\n",
    "El factorial de 5 es 120<br>"
   ]
  },
  {
   "cell_type": "code",
   "execution_count": 30,
   "metadata": {},
   "outputs": [
    {
     "name": "stdout",
     "output_type": "stream",
     "text": [
      "Escriba un número entero  mayor que cero: 1\n",
      "El factorial de 1 es 1\n"
     ]
    }
   ],
   "source": [
    "num1 = int(input(\"Escriba un número entero  mayor que cero: \"))\n",
    "if num1 <= 0:\n",
    "    print(\"¡Le he pedido un número entero mayor que cero!\")\n",
    "else:\n",
    "    factorial = 1\n",
    "    for i in range(1,num1+1):\n",
    "        factorial*= i\n",
    "    print(f\"El factorial de {num1} es {factorial}\")"
   ]
  },
  {
   "cell_type": "markdown",
   "metadata": {},
   "source": [
    "### Ejercicio 20:\n",
    "\n",
    "Escribir un programa que pida al usuario un número entero (del 1 al 10) y genere la matriz caracol.\n",
    "\n",
    "<b>Salida deseada:</b><br><br>\n",
    "\n",
    "Introduce un número (entero positivo):  3<br>\n",
    "\n",
    "1 2 3<br>\n",
    "8 9 4<br>\n",
    "7 6 5<br>"
   ]
  },
  {
   "cell_type": "code",
   "execution_count": 31,
   "metadata": {},
   "outputs": [
    {
     "name": "stdout",
     "output_type": "stream",
     "text": [
      "Introduce un número (entero positivo): 7\n",
      "[[ 1.  2.  3.  4.  5.  6.  7.]\n",
      " [24. 25. 26. 27. 28. 29.  8.]\n",
      " [23. 40. 41. 42. 43. 30.  9.]\n",
      " [22. 39. 48. 49. 44. 31. 10.]\n",
      " [21. 38. 47. 46. 45. 32. 11.]\n",
      " [20. 37. 36. 35. 34. 33. 12.]\n",
      " [19. 18. 17. 16. 15. 14. 13.]]\n"
     ]
    }
   ],
   "source": [
    "\n",
    "import numpy\n",
    "num=int(input(\"Introduce un número (entero positivo): \"))\n",
    "if num>0 and num<11:\n",
    "    mat = numpy.zeros(shape=(num,num))\n",
    "    cont=1;\n",
    "    iY1=1\n",
    "    iX1=num-1\n",
    "    iY2=num-1\n",
    "    iX2=num-2\n",
    "    iY3=num-2\n",
    "    iX3=0\n",
    "    iY4=1\n",
    "    iX4=1\n",
    "    for i in range(0,num):\n",
    "        mat[0][i]=cont\n",
    "        cont+=1\n",
    "    for i in range(num-1,0,-2):\n",
    "        for j in range(0,i):\n",
    "            if mat[iY1+j][iX1]!=0:\n",
    "                break\n",
    "            mat[iY1+j][iX1]=cont\n",
    "            cont+=1\n",
    "        for j in range(0,i):\n",
    "            if mat[iY2][iX2-j]!=0:\n",
    "                break\n",
    "            mat[iY2][iX2-j]=cont\n",
    "            cont+=1\n",
    "        iY1+=1\n",
    "        iX1-=1\n",
    "        iY2-=1\n",
    "        iX2-=1\n",
    "        i-=1\n",
    "        for j in range(0,i):\n",
    "            if mat[iY3-j][iX3]!=0:\n",
    "                break\n",
    "            mat[iY3-j][iX3]=cont\n",
    "            cont+=1\n",
    "        for j in range(0,i):\n",
    "            if mat[iY4][iX4+j]!=0:\n",
    "                break\n",
    "            mat[iY4][iX4+j]=cont\n",
    "            cont+=1\n",
    "        iY3-=1\n",
    "        iX3+=1\n",
    "        iY4+=1\n",
    "        iX4+=1\n",
    "    print(mat)\n",
    "else:\n",
    "    print(\"Debe ingresar un entero del 1 al 10\")    "
   ]
  },
  {
   "cell_type": "markdown",
   "metadata": {},
   "source": [
    "# 2.4. La Sentencia while"
   ]
  },
  {
   "cell_type": "markdown",
   "metadata": {},
   "source": [
    "Una instrucción while prueba una condición inicial y comienza a ejecutar los comandos del bloque si la condición es verdadera. Mientras la condición permanezca verdadera, los comandos de bucle se ejecutan repetidamente.\n",
    "\n",
    "Sintaxis:\n",
    "\n",
    "mientras condición:\n",
    "\n",
    "     comandos\n",
    "\n",
    "#### Ejemplo de declaración while"
   ]
  },
  {
   "cell_type": "code",
   "execution_count": null,
   "metadata": {},
   "outputs": [],
   "source": [
    "i=0\n",
    "while i < 10:\n",
    "    i+=1\n",
    "    print(i)"
   ]
  },
  {
   "cell_type": "code",
   "execution_count": 3,
   "metadata": {},
   "outputs": [],
   "source": [
    "# Iniciando con una lista vacia\n",
    "nombres = []\n",
    "\n",
    "# Defina una string llamada nuevo_nombre con cualquier valor diferente de \"salir\"\n",
    "nuevo_nombre = ''"
   ]
  },
  {
   "cell_type": "markdown",
   "metadata": {},
   "source": [
    "El ciclo while se ejecutará mientras el usuario ingrese nombres distintos a \"salir\", almacenando cada nombre ingresado en una lista."
   ]
  },
  {
   "cell_type": "code",
   "execution_count": null,
   "metadata": {},
   "outputs": [],
   "source": [
    "while nuevo_nombre != 'salir':\n",
    "    # Pida que el usuario ingrese un nombre\n",
    "    nuevo_nombre = input(\"Ingrese un nombre o la palabra salir: \")\n",
    "    # Adiciona el nombre al final de la lista de nombres\n",
    "    nombres.append(nuevo_nombre)\n",
    "\n",
    "#Extraiga la palabra salir de la lista de names (\"salir\")\n",
    "ultima = nombres.pop()\n",
    "# Imprime la lista de nombres\n",
    "print(nombres)"
   ]
  },
  {
   "cell_type": "markdown",
   "metadata": {},
   "source": [
    "El control de bucles break, continue y pass permite:"
   ]
  },
  {
   "cell_type": "code",
   "execution_count": null,
   "metadata": {},
   "outputs": [],
   "source": [
    "while True:\n",
    "    line = input('Input > ')\n",
    "    if line == 'done':\n",
    "        break\n",
    "    print(line)\n",
    "print('Done!')"
   ]
  },
  {
   "cell_type": "code",
   "execution_count": 13,
   "metadata": {},
   "outputs": [
    {
     "name": "stdout",
     "output_type": "stream",
     "text": [
      "Input > dsfdsf\n",
      "dsfdsf\n",
      "Input > dsf\n",
      "dsf\n",
      "Input > done\n",
      "Done!\n"
     ]
    }
   ],
   "source": [
    "while True:\n",
    "    line = input('Input > ')\n",
    "    if line[0] == '#':\n",
    "        continue\n",
    "    if line == 'done':\n",
    "        break\n",
    "    print(line)\n",
    "print('Done!')"
   ]
  },
  {
   "cell_type": "markdown",
   "metadata": {},
   "source": [
    "Más información:<br>\n",
    "[1] https://www.pythonmania.net/es/2013/04/05/control-de-bucles-break-continue-y-pass/"
   ]
  },
  {
   "cell_type": "markdown",
   "metadata": {},
   "source": [
    "### Ejercicio 21:\n",
    "\n",
    "Escriba un programa que pida dos números enteros. El programa pedirá de nuevo el segundo número mientras no sea mayor que el primero. El programa terminará escribiendo los dos números.\n",
    "\n",
    "<b>Salida deseada:</b><br><br>\n",
    "NÚMERO MAYOR<br>\n",
    "Escriba un número: 6<br>\n",
    "Escriba un número mayor que 6: 6<br>\n",
    "6 no es mayor que 6. Inténtelo de nuevo: 1<br>\n",
    "1 no es mayor que 6. Inténtelo de nuevo: 8<br>\n",
    "<br>\n",
    "Los números que ha escrito son 6 y 8."
   ]
  },
  {
   "cell_type": "code",
   "execution_count": 6,
   "metadata": {},
   "outputs": [
    {
     "name": "stdout",
     "output_type": "stream",
     "text": [
      "NÚMERO MAYOR\n",
      "Escriba un número: 6\n",
      "Escriba un número mayor que 6: 6\n",
      "6 no es mayor que 6. Inténtelo de nuevo:5\n",
      "5 no es mayor que 6. Inténtelo de nuevo:2\n",
      "2 no es mayor que 6. Inténtelo de nuevo:3\n",
      "3 no es mayor que 6. Inténtelo de nuevo:8\n",
      "Los números que ha escrito son 6 y 8\n"
     ]
    }
   ],
   "source": [
    "print(\"NÚMERO MAYOR\")\n",
    "num = int(input(\"Escriba un número: \"))\n",
    "num2 = int(input(f\"Escriba un número mayor que {num}: \"))\n",
    "while num2 <= num:\n",
    "    num2 = int(input(f\"{num2} no es mayor que {num}. Inténtelo de nuevo:\" ))\n",
    "print(f\"Los números que ha escrito son {num} y {num2}\")"
   ]
  },
  {
   "cell_type": "markdown",
   "metadata": {},
   "source": [
    "### Ejercicio 22:\n",
    "\n",
    "Escriba un programa que pida números decimales mientras el usuario escriba número mayores que el anterior.\n",
    "\n",
    "\n",
    "<b>Salida deseada:</b><br><br>\n",
    "NÚMEROS MAYORES<br>\n",
    "Escriba un número: 7<br>\n",
    "Escriba un número mayor que 7.0: 1<br>\n",
    "1.0 no es mayor que 7.0.<br>\n",
    "<br>\n",
    "NÚMEROS MAYORES<br>\n",
    "Escriba un número: 9.3<br>\n",
    "Escriba un número mayor que 9.3: 9.3<br>\n",
    "9.3 no es mayor que 9.3.<br>\n",
    "<br>\n",
    "NÚMEROS MAYORES<br>\n",
    "Escriba un número: 4.5<br>\n",
    "Escriba un número mayor que 4.5: 5<br>\n",
    "Escriba otro número mayor que 5.0: 7.3<br>\n",
    "Escriba otro número mayor que 5.0: 2<br>\n",
    "2.0 no es mayor que 4.5."
   ]
  },
  {
   "cell_type": "code",
   "execution_count": 8,
   "metadata": {},
   "outputs": [
    {
     "name": "stdout",
     "output_type": "stream",
     "text": [
      "NÚMEROS MAYORES\n",
      "Escriba un número: 4.5\n",
      "Escriba un número mayor que 4.5: 5\n",
      "Escriba otro número mayor que 5.0:6\n",
      "Escriba otro número mayor que 6.0:8\n",
      "Escriba otro número mayor que 8.0:4\n",
      "4.0 no es mayor que 8.0\n"
     ]
    }
   ],
   "source": [
    "print(\"NÚMEROS MAYORES\")\n",
    "num = float(input(\"Escriba un número: \"))\n",
    "num2 = float(input(f\"Escriba un número mayor que {num}: \"))\n",
    "while num2 > num:\n",
    "    num = num2\n",
    "    num2 = float(input(f\"Escriba otro número mayor que {num2}:\"))\n",
    "print(f\"{num2} no es mayor que {num}\")"
   ]
  },
  {
   "cell_type": "markdown",
   "metadata": {},
   "source": [
    "### Ejercicio 23:\n",
    "\n",
    "Escriba un programa que pida un valor límite positivo y a continuación pida números hasta que la suma de los números introducidos supere el límite inicial.\n",
    "\n",
    "\n",
    "<b>Salida deseada:</b><br><br>\n",
    "HASTA EL LÍMITE<br>\n",
    "Escriba el valor límite: -3<br>\n",
    "El límite debe ser mayor que 0. Inténtelo de nuevo: 0<br>\n",
    "El límite debe ser mayor que 0. Inténtelo de nuevo: 5.5<br>\n",
    "Escriba un número: 7.2<br>\n",
    "Ha superado el límite. La suma de los números introducidos es 7.2.<br>\n",
    "<br>\n",
    "HASTA EL LÍMITE<br>\n",
    "Escriba el valor límite: 12<br>\n",
    "Escriba un número: 5.2<br>\n",
    "Escriba otro número: -1<br>\n",
    "Escriba otro número: 9<br>\n",
    "Ha superado el límite. La suma de los números introducidos es 13.2."
   ]
  },
  {
   "cell_type": "code",
   "execution_count": 12,
   "metadata": {},
   "outputs": [
    {
     "name": "stdout",
     "output_type": "stream",
     "text": [
      "HASTA EL LÍMITE\n",
      "Escriba el valor límite:6\n",
      "Escriba un numero: 2\n",
      "Escriba un numero: 3\n",
      "Escriba un numero: 4\n",
      "Ha superado el límite. La suma de los números introducidos es 9.0.\n"
     ]
    }
   ],
   "source": [
    "print(\"HASTA EL LÍMITE\")\n",
    "num = float(input(\"Escriba el valor límite:\"))\n",
    "while num <= 0:\n",
    "    num = float(input(f\"El límite debe ser mayor que 0. Inténtelo de nuevo:\"))\n",
    "suma = 0\n",
    "while suma < num:\n",
    "    num2 = float(input(f\"Escriba un numero: \"))\n",
    "    suma += num2\n",
    "print(f\"Ha superado el límite. La suma de los números introducidos es {suma}.\")\n"
   ]
  },
  {
   "cell_type": "markdown",
   "metadata": {},
   "source": [
    "### Ejercicio 24:\n",
    "\n",
    "Escriba un programa que calcule la descomposición en factores primos de un número.\n",
    "\n",
    "<b>Salida deseada:</b><br><br>\n",
    "DESCOMPOSICIÓN EN FACTORES PRIMOS<br>\n",
    "Escriba un número entero mayor que 1: 500<br>\n",
    "Descomposición en factores primos: 2 2 5 5 5<br>\n",
    "<br>\n",
    "DESCOMPOSICIÓN EN NÚMEROS PRIMOS<br>\n",
    "Escriba un número entero mayor que 1: 521<br>\n",
    "Descomposición en factores primos: 521<br>\n",
    "<br>\n",
    "DESCOMPOSICIÓN EN NÚMEROS PRIMOS<br>\n",
    "Escriba un número entero mayor que 1: 1<br>\n",
    "1 no es mayor que 1. Inténtelo de nuevo: 720<br>\n",
    "Descomposición en factores primos: 2 2 2 2 3 3 5"
   ]
  },
  {
   "cell_type": "code",
   "execution_count": 9,
   "metadata": {},
   "outputs": [
    {
     "name": "stdout",
     "output_type": "stream",
     "text": [
      "DESCOMPOSICIÓN EN FACTORES PRIMOS\n",
      "Escriba un número entero mayor que 1:720\n",
      "Descomposicion de factores primos: 2 2 2 2 3 3 5 "
     ]
    }
   ],
   "source": [
    "print(\"DESCOMPOSICIÓN EN FACTORES PRIMOS\")\n",
    "num = int(input(\"Escriba un número entero mayor que 1:\"))\n",
    "while num <= 1:\n",
    "    num = int(input(f\"{num} no es mayor que 1. Inténtelo de nuevo: \"))\n",
    "primo = 2\n",
    "print(\"Descomposicion de factores primos: \", end=\"\")\n",
    "while num > 1:\n",
    "    if num%primo == 0:\n",
    "        num //= primo\n",
    "        print(primo, end=\" \")\n",
    "    else:\n",
    "        for i in range(primo+1,num+1):\n",
    "            esPrimo = True\n",
    "            for y in range(2,i):\n",
    "                if i%y==0:\n",
    "                    esPrimo = False\n",
    "                    break\n",
    "            if esPrimo:\n",
    "                primo = i\n",
    "                break\n",
    "        \n",
    "        \n",
    "        \n",
    "    \n",
    "    \n"
   ]
  },
  {
   "cell_type": "markdown",
   "metadata": {},
   "source": [
    "### Ejercicio 25:\n",
    "\n",
    "Escriba un programa que muestre números al azar del 1 al 6 mientras lo pida el usuario. El programa debe mostrar la suma de los números anteriores.\n",
    "\n",
    "<b>Salida deseada:</b><br>\n",
    "\n",
    "Juego del Azar<br>\n",
    "Pulse Intro para lanzar el dado. Pulse otra tecla e Intro para terminar:<br>\n",
    "Tirada: 2 - Suma: 2<br>\n",
    "<br>\n",
    "Pulse Intro para lanzar el dado. Pulse otra tecla e Intro para terminar:<br>\n",
    "Tirada: 5 - Suma: 7<br>\n",
    "<br>\n",
    "Pulse Intro para lanzar el dado. Pulse otra tecla e Intro para terminar:<br>\n",
    "Tirada: 4 - Suma: 11<br>\n",
    "<br>\n",
    "Pulse Intro para lanzar el dado. Pulse otra tecla e Intro para terminar: x<br>\n",
    "Programa terminado."
   ]
  },
  {
   "cell_type": "code",
   "execution_count": 5,
   "metadata": {},
   "outputs": [
    {
     "name": "stdout",
     "output_type": "stream",
     "text": [
      "Juego del Azar\n",
      "Pulse Intro para lanzar el dado. Pulse otra tecla e Intro para terminar:\n",
      "Tirada: 4 - Suma: 4\n",
      "Pulse Intro para lanzar el dado. Pulse otra tecla e Intro para terminar:\n",
      "Tirada: 2 - Suma: 6\n",
      "Pulse Intro para lanzar el dado. Pulse otra tecla e Intro para terminar:\n",
      "Tirada: 1 - Suma: 7\n",
      "Pulse Intro para lanzar el dado. Pulse otra tecla e Intro para terminar:\n",
      "Tirada: 1 - Suma: 8\n",
      "Pulse Intro para lanzar el dado. Pulse otra tecla e Intro para terminar:l\n",
      "Programa Terminado\n"
     ]
    }
   ],
   "source": [
    "from random import randrange\n",
    "print(\"Juego del Azar\")\n",
    "st = input(\"Pulse Intro para lanzar el dado. Pulse otra tecla e Intro para terminar:\")\n",
    "suma = 0\n",
    "while st == \"\":\n",
    "    dado = randrange(1,7)\n",
    "    suma += dado\n",
    "    print(f\"Tirada: {dado} - Suma: {suma}\")\n",
    "    st = input(\"Pulse Intro para lanzar el dado. Pulse otra tecla e Intro para terminar:\")\n",
    "print(\"Programa Terminado\")\n",
    "    \n",
    "\n"
   ]
  },
  {
   "cell_type": "markdown",
   "metadata": {},
   "source": [
    "### Ejercicio 26:\n",
    "\n",
    "Escriba un programa que pida un número del 1 al 6, un número de jugadores y tire un dado para cada jugador. El 1er jugador obtenga el mismo número será el ganador.\n",
    "\n",
    "<b>Salida deseada:</b><br>\n",
    "\n",
    "JUEGO DE LOS DADOS<br>\n",
    "Número a acertar: 5<br>\n",
    "Número de jugadores: 1<br>\n",
    "¡Imposible!<br>\n",
    "<br>\n",
    "JUEGO DE LOS DADOS<br>\n",
    "Número a acertar: 5<br>\n",
    "Número de jugadores: 4<br>\n",
    "Jugador 1: 3<br>\n",
    "Jugador 2: 3<br>\n",
    "Jugador 3: 5<br>\n",
    "El ganador es el Jugador 3.<br>\n",
    "<br>\n",
    "JUEGO DE LOS DADOS<br>\n",
    "Número a acertar: 5<br>\n",
    "Número de jugadores: 3<br>\n",
    "Jugador 1: 4<br>\n",
    "Jugador 2: 4<br>\n",
    "Jugador 3: 1<br>\n",
    "No existe ganadores."
   ]
  },
  {
   "cell_type": "code",
   "execution_count": 17,
   "metadata": {},
   "outputs": [
    {
     "name": "stdout",
     "output_type": "stream",
     "text": [
      "Juego del Azar\n",
      "Número a acertar:5\n",
      "Número de jugadores: 3\n",
      "Jugador 1: 4\n",
      "Jugador 2: 6\n",
      "Jugador 3: 6\n",
      "Jugador 1: 2\n",
      "Jugador 2: 4\n",
      "Jugador 3: 1\n",
      "Jugador 1: 6\n",
      "Jugador 2: 2\n",
      "Jugador 3: 6\n",
      "Jugador 1: 4\n",
      "Jugador 2: 6\n",
      "Jugador 3: 6\n",
      "Jugador 1: 5\n",
      "El ganador es el Jugador 1\n"
     ]
    }
   ],
   "source": [
    "from random import randrange\n",
    "print(\"Juego del Azar\")\n",
    "acertar = int(input(\"Número a acertar:\"))\n",
    "jugadores = int(input(\"Número de jugadores: \"))\n",
    "if acertar > 6 or acertar < 1 or jugadores < 2:\n",
    "    print(\"Imposible\")\n",
    "else:\n",
    "    ganador = True\n",
    "    while ganador:\n",
    "        for i in range(0,jugadores):\n",
    "            dado = randrange(1,7)\n",
    "            print(f\"Jugador {i+1}: {dado}\")\n",
    "            if dado == acertar:\n",
    "                print(f\"El ganador es el Jugador {i+1}\")\n",
    "                ganador = False\n",
    "                break\n",
    "\n",
    "        "
   ]
  },
  {
   "cell_type": "markdown",
   "metadata": {},
   "source": [
    "### Ejercicio 27:\n",
    "\n",
    "Escribir un programa que genere <b>una cadena de 4 caracteres aleatorios</b> que usen minúsculas y números en una variable, pregunte al usuario si desea averiguar la cadena o utilizar fuerza bruta para conseguir la contraseña correcta. En caso de usar la opción de fuerza bruta, declarar la cantidad de iteraciones utilizadas para encontrar la contraseña por fuerza bruta.\n",
    "\n",
    "<b>Salida deseada:</b><br>\n",
    "\n",
    "QUEBRAR UNA CONTRASEÑA<br>\n",
    "\n",
    "El programa generó una contraseña.<br>\n",
    "\n",
    "¿Desea adivinar la contraseña (opción a) o desea utilizar fuerza bruta (opción fb)?: a<br>\n",
    "Introduce la contraseña:  1234<br>\n",
    "¡Incorrecto!\n",
    "\n",
    "¿Desea adivinar la contraseña (opción a) o desea utilizar fuerza bruta (opción fb)?: a<br>\n",
    "Introduce la contraseña:  pass<br>\n",
    "¡Contraseña correcta!<br>\n",
    "<br>\n",
    "<br>\n",
    "QUEBRAR UNA CONTRASEÑA<br>\n",
    "\n",
    "El programa generó una contraseña.<br>\n",
    "\n",
    "¿Desea adivinar la contraseña (opción a) o desea utilizar fuerza bruta (opción fb)?: a<br>\n",
    "Introduce la contraseña:  cont<br>\n",
    "¡Incorrecto!\n",
    "\n",
    "¿Desea adivinar la contraseña (opción a) o desea utilizar fuerza bruta (opción fb)?: fb<br>\n",
    "Se realizó 3465 iteraciones para encontrar la contraseña correcta: abc5<br>\n"
   ]
  },
  {
   "cell_type": "code",
   "execution_count": 23,
   "metadata": {},
   "outputs": [
    {
     "name": "stdout",
     "output_type": "stream",
     "text": [
      "QUEBRAR UNA CONTRASEÑA\n",
      "abcdefghijklmnopqrstuvwxyz0123456789\n",
      "El programa generó una contraseña.\n",
      "o5cu\n",
      "¿Desea adivinar la contraseña (opción a) o desea utilizar fuerza bruta (opción fb)?:fb\n",
      "Se realizó 693453 iteraciones para encontrar la contraseña correcta: o5cu\n"
     ]
    }
   ],
   "source": [
    "import string\n",
    "import random\n",
    "print(\"QUEBRAR UNA CONTRASEÑA\")\n",
    "lett = string.ascii_lowercase + string.digits\n",
    "print(lett)\n",
    "cadena = \"\"\n",
    "for i in range(0,4):\n",
    "    cadena += random.choice(lett)\n",
    "noAdivinado = True\n",
    "def makeString():\n",
    "    cont = 0\n",
    "    for i in range(0, len(lett)):\n",
    "        a = lett[i]\n",
    "        for y in range(0, len(lett)):\n",
    "            b = lett[y]\n",
    "            for z in range(0, len(lett)):\n",
    "                c = lett[z]\n",
    "                for w in range(0, len(lett)):\n",
    "                    cont += 1\n",
    "                    d = lett[w]\n",
    "                    intento = a+b+c+d\n",
    "                    if intento == cadena:\n",
    "                        print(f\"Se realizó {cont} iteraciones para encontrar la contraseña correcta: {intento}\")\n",
    "                        return \n",
    "     \n",
    "\n",
    "print(\"El programa generó una contraseña.\")\n",
    "print(cadena)\n",
    "while noAdivinado: \n",
    "\n",
    "    opcion = input(\"¿Desea adivinar la contraseña (opción a) o desea utilizar fuerza bruta (opción fb)?:\")\n",
    "    if opcion == \"a\":\n",
    "        guess = input(\"Introduce la contraseña: \")\n",
    "        if guess == cadena:\n",
    "            print(\"Correcto\")\n",
    "            noAdivinado = False\n",
    "        else:\n",
    "            print(\"Incorrecto\")\n",
    "    elif opcion == \"fb\":\n",
    "        makeString()\n",
    "        noAdivinado = False\n",
    "    else:\n",
    "        print(\"Elige una opcion\")\n",
    "\n"
   ]
  },
  {
   "cell_type": "markdown",
   "metadata": {},
   "source": [
    "### Ejercicio 28:\n",
    "\n",
    "Escriba un programa para jugar a adivinar un número (el ordenador \"piensa\" el número y el usuario tiene que adivinarlo). El programa empieza pidiendo entre qué números está el número a adivinar, se \"inventa\" un número al azar y después el usuario va probando valores y el programa va diciendo si son demasiado grandes o pequeños.\n",
    "\n",
    "<b>Salida deseada:</b><br>\n",
    "\n",
    "Valor mínimo: 0<br>\n",
    "Valor máximo: 100<br>\n",
    "Intente adivinar un número entero entre 0 y 100.<br>\n",
    "Escriba un número: 20<br>\n",
    "¡Demasiado pequeño! Inténtelo de nuevo: 30<br>\n",
    "¡Demasiado grande! Inténtelo de nuevo: 27<br>\n",
    "¡Acertó! Le ha costado 3 intentos.\n",
    "\n",
    "<b>Sugerencia:</b> puede perfeccionar este programa haciendo:\n",
    "\n",
    "* que al principio el programa se asegure de que el valor máximo es superior al valor mínimo.\n",
    "* que el programa detecte \"trampas\", por ejemplo, si al decir 25 le decimos \"mayor\" y al decir 26 le decimos \"menor\", el programa debe decirnos que estamos haciendo trampas y dejar de jugar."
   ]
  },
  {
   "cell_type": "code",
   "execution_count": 25,
   "metadata": {},
   "outputs": [
    {
     "name": "stdout",
     "output_type": "stream",
     "text": [
      "Valor minimo: 0\n",
      "Valor maximo: 10\n",
      "Intente adivinar un numero entero entre 0 y 10\n",
      "Escriba un numero: 5\n",
      "¡Acertó! Le ha costado 1 intentos.\n"
     ]
    }
   ],
   "source": [
    "from random import randrange\n",
    "minimo = int(input(\"Valor minimo: \"))\n",
    "maximo = int(input(\"Valor maximo: \"))\n",
    "print(f\"Intente adivinar un numero entero entre {minimo} y {maximo}\")\n",
    "adiv = randrange(minimo,maximo+1)\n",
    "num = int(input(\"Escriba un numero: \"))\n",
    "cont = 1\n",
    "while num != adiv:\n",
    "    if num > adiv:\n",
    "        num = int(input(\"¡Demasiado grande! Inténtelo de nuevo: \"))\n",
    "    else:\n",
    "        num = int(input(\"¡Demasiado pequeño! Inténtelo de nuevo: \"))\n",
    "    cont += 1\n",
    "print(f\"¡Acertó! Le ha costado {cont} intentos.\")\n"
   ]
  },
  {
   "cell_type": "markdown",
   "metadata": {},
   "source": [
    "### Ejercicio 29:\n",
    "\n",
    "Escribir un programa que pida al usuario un número entero y muestre por pantalla un triángulo rectángulo de Fibonacci.\n",
    "\n",
    "<b>Salida deseada:</b><br><br>\n",
    "Introduce la altura del triángulo (entero positivo):  7<br>\n",
    "\n",
    "1 <br>\n",
    "1 1<br>\n",
    "1 1 2<br>\n",
    "1 1 2 3<br>\n",
    "1 1 2 3 5<br>\n",
    "1 1 2 3 5 8<br>\n",
    "1 1 2 3 5 8 13<br>"
   ]
  },
  {
   "cell_type": "code",
   "execution_count": 40,
   "metadata": {},
   "outputs": [
    {
     "name": "stdout",
     "output_type": "stream",
     "text": [
      "Introduce la altura del triángulo (entero positivo): 7\n",
      "\n",
      "1 \n",
      "1 1 \n",
      "1 1 2 \n",
      "1 1 2 3 \n",
      "1 1 2 3 5 \n",
      "1 1 2 3 5 8 \n",
      "1 1 2 3 5 8 13 \n"
     ]
    }
   ],
   "source": [
    "altura = int(input(\"Introduce la altura del triángulo (entero positivo): \"))\n",
    "def fibo(n):\n",
    "    if n <= 2:\n",
    "        return 1\n",
    "    else:\n",
    "        return fibo(n-1) + fibo(n-2)\n",
    "\n",
    "for i in range(0,altura+1):\n",
    "    for y in range(0,i):\n",
    "        num = fibo(y+1)\n",
    "        print(num, end = \" \")\n",
    "    print(\"\")\n"
   ]
  },
  {
   "cell_type": "markdown",
   "metadata": {},
   "source": [
    "### Ejercicio 30:\n",
    "\n",
    "Implemente un programa que sea capaz de calcular el resultado de aplicarla formula siguiente (n i)=n!/(i!\\*(n-i)!). Para ello usted debe leer un numero por teclado que debe ser mayor e igual que cero teniendo en cuenta además que n tiene que ser necesariamente mayor que i y además calcular el factorial de un número."
   ]
  },
  {
   "cell_type": "code",
   "execution_count": 6,
   "metadata": {},
   "outputs": [
    {
     "name": "stdout",
     "output_type": "stream",
     "text": [
      "n: 4\n",
      "i: 2\n",
      "24\n",
      "2\n",
      "2\n",
      "El resultado es 6.0\n"
     ]
    }
   ],
   "source": [
    "n = int(input(\"n: \"))\n",
    "i = int(input(\"i: \"))\n",
    "def factorial(p):\n",
    "    fact = 1\n",
    "    for i in range(1,p+1):\n",
    "        fact*= i\n",
    "    print(fact)\n",
    "    return fact\n",
    "if n < 0 or n < i:\n",
    "    print(\"Datos incorrectos\")\n",
    "else:\n",
    "    op = (factorial(n))/(factorial(i)*factorial(n-i))\n",
    "    print(f\"El resultado es {op}\")\n",
    "\n"
   ]
  },
  {
   "cell_type": "code",
   "execution_count": null,
   "metadata": {},
   "outputs": [],
   "source": []
  }
 ],
 "metadata": {
  "kernelspec": {
   "display_name": "Python 3",
   "language": "python",
   "name": "python3"
  },
  "language_info": {
   "codemirror_mode": {
    "name": "ipython",
    "version": 3
   },
   "file_extension": ".py",
   "mimetype": "text/x-python",
   "name": "python",
   "nbconvert_exporter": "python",
   "pygments_lexer": "ipython3",
   "version": "3.7.4"
  }
 },
 "nbformat": 4,
 "nbformat_minor": 2
}
