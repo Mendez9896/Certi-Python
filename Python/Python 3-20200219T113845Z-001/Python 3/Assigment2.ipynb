{
 "cells": [
  {
   "cell_type": "markdown",
   "metadata": {},
   "source": [
    "21. Escribir un programa que determine si el año es bisiesto. Un año es bisiesto si es\n",
    "múltiplo de 4 (1988), excepto los múltiplos de 100 que no son bisiestos salvo que a su\n",
    "vez también sean múltiplos de 400 (1800no es bisiesto, 2000 sí)."
   ]
  },
  {
   "cell_type": "code",
   "execution_count": 7,
   "metadata": {},
   "outputs": [
    {
     "name": "stdout",
     "output_type": "stream",
     "text": [
      "Año: 2018\n",
      "2018 no es bisiesto\n"
     ]
    }
   ],
   "source": [
    "anio = int(input(\"Año: \"))\n",
    "if anio % 4 == 0:\n",
    "    if anio % 100 ==0:\n",
    "        if anio % 400 == 0:\n",
    "            print(f\"{anio} es bisiesto\")\n",
    "        else:\n",
    "            print(f\"{anio} no es bisiesto\")\n",
    "    else:\n",
    "        print(f\"{anio} es bisiesto\")       \n",
    "else:\n",
    "    print(f\"{anio} no es bisiesto\")\n",
    "    "
   ]
  },
  {
   "cell_type": "markdown",
   "metadata": {},
   "source": [
    "22. Dado los valores de A, B, C que son los coeficientes de la ecuación de segundo grado,\n",
    "hallar sus raíces reales, desplegar los resultados."
   ]
  },
  {
   "cell_type": "code",
   "execution_count": null,
   "metadata": {},
   "outputs": [],
   "source": [
    "import math\n",
    "print(\"ECUACIÓN A X² + B X + C = 0\")\n",
    "a = float(input(\"Escriba el valor del coeficiente a: \"))\n",
    "b = float(input(\"Escriba el valor del coeficiente b: \"))\n",
    "c = float(input(\"Escriba el valor del coeficiente c: \"))\n",
    "d = b**2 - 4*a*c\n",
    "if d==0:\n",
    "    sol = (-b)/(2*a)\n",
    "    print(f\"La ecuacion tiene una solucion: {sol:.2f}\")\n",
    "elif d>0:\n",
    "    sol1= ((-b)+ math.sqrt(d))/(2*a)\n",
    "    sol2= ((-b)- math.sqrt(d))/(2*a)\n",
    "    print(f\"La ecuacion tiene dos soluciones: {sol1:.2f} y {sol2:.2f}\")\n",
    "else: \n",
    "    com1 = complex(-b, math.sqrt(-d))\n",
    "    com2 = complex(-b, -math.sqrt(-d))\n",
    "    sol1 = (com1)/((2*a) +0j)\n",
    "    sol2= (com2)/((2*a) +0j)\n",
    "    print(f\"La ecuacion tiene dos soluciones: {sol1:.2f} y {sol2:.2f}\")"
   ]
  },
  {
   "cell_type": "markdown",
   "metadata": {},
   "source": [
    "23. Dado dos valores A y B, realizar el producto de los dos números por sumas sucesivas,\n",
    "almacenar el resultado en una variable P, mostrar el resultado."
   ]
  },
  {
   "cell_type": "code",
   "execution_count": 23,
   "metadata": {},
   "outputs": [
    {
     "name": "stdout",
     "output_type": "stream",
     "text": [
      "A: 5\n",
      "B: -6\n",
      "El producto es igual a -30\n"
     ]
    }
   ],
   "source": [
    "A = int(input(\"A: \"))\n",
    "B = int(input(\"B: \"))\n",
    "P = 0\n",
    "if B < 0:\n",
    "    while B < 0:\n",
    "        P -= A\n",
    "        B += 1\n",
    "else:\n",
    "    while B > 0:\n",
    "        P += A\n",
    "        B -= 1\n",
    "print(f\"El producto es igual a {P}\")"
   ]
  },
  {
   "cell_type": "markdown",
   "metadata": {},
   "source": [
    "24. Dado un número X, determinar el número de dígitos del que esta compuesto y\n",
    "desplegar el resultado."
   ]
  },
  {
   "cell_type": "code",
   "execution_count": 5,
   "metadata": {},
   "outputs": [
    {
     "name": "stdout",
     "output_type": "stream",
     "text": [
      "X: 11\n",
      "['11']\n",
      "Digitos: 2\n"
     ]
    }
   ],
   "source": [
    "X = input(\"X: \")\n",
    "X = X.split(\".\")\n",
    "x1 = int(X[0])\n",
    "cont = 0\n",
    "if len(X) > 1:\n",
    "    x2 = int(X[1])\n",
    "    while x2 > 0:\n",
    "        x2 //= 10\n",
    "        cont += 1\n",
    "\n",
    "while x1 > 0:\n",
    "    x1 //= 10\n",
    "    cont += 1\n",
    "print(f\"Digitos: {cont}\")\n"
   ]
  },
  {
   "cell_type": "markdown",
   "metadata": {},
   "source": [
    "25. Escribir un programa que calcule y visualice el más grande, el más pequeño y la media\n",
    "de N números. El valor de N se solicitará al principio del programa y los números\n",
    "serán introducidos por el usuario."
   ]
  },
  {
   "cell_type": "code",
   "execution_count": 65,
   "metadata": {},
   "outputs": [
    {
     "name": "stdout",
     "output_type": "stream",
     "text": [
      "N: 5\n",
      "Numero: -5\n",
      "Numero: 5\n",
      "Numero: 3\n",
      "Numero: 2\n",
      "Numero: 5\n",
      "Mayor: 5 Menor: -5 Media: 2.0\n"
     ]
    }
   ],
   "source": [
    "N = int(input(\"N: \"))\n",
    "if N <= 0:\n",
    "    print(\"Imposible\")\n",
    "else: \n",
    "    numeros = []\n",
    "    suma = 0\n",
    "    while N > 0:\n",
    "        numero = int(input(\"Numero: \"))\n",
    "        suma += numero\n",
    "        numeros.append(numero)\n",
    "        N -= 1\n",
    "    mayor = max(numeros)\n",
    "    menor = min(numeros)\n",
    "    media = suma / len(numeros)\n",
    "    print(f\"Mayor: {mayor} Menor: {menor} Media: {media}\")"
   ]
  },
  {
   "cell_type": "markdown",
   "metadata": {},
   "source": [
    "26. Dado dos números A y B enteros mayores a cero, hallar A^B por sumas. Desplegar los\n",
    "números y el resultado."
   ]
  },
  {
   "cell_type": "code",
   "execution_count": 52,
   "metadata": {},
   "outputs": [
    {
     "name": "stdout",
     "output_type": "stream",
     "text": [
      "A: 100\n",
      "B: 100\n",
      "100^100 = 10000\n"
     ]
    }
   ],
   "source": [
    "A = int(input(\"A: \"))\n",
    "B = int(input(\"B: \"))\n",
    "if A <= 0 or B <= 0:\n",
    "    print(\"Imposible\")\n",
    "else:\n",
    "    cont = 0\n",
    "    pot = 0\n",
    "    aux = A\n",
    "    while cont < B:\n",
    "        pot += aux\n",
    "        cont += 1\n",
    "    print(f\"{A}^{B} = {pot}\")\n",
    "        "
   ]
  },
  {
   "cell_type": "markdown",
   "metadata": {},
   "source": [
    "27. La constante pi (3.1441592...) es muy utilizada en matemáticas. Un método sencillo\n",
    "de calcular su valor es:\n",
    "pi = 2 * (2/1)* (2/3) * (4/3) * (4/5) * (6/5) * (6/7) * (8/7) * (8/9) ...\n",
    "\n",
    "Escribir un programa que efectúe este cálculo con un número de términos\n",
    "especificando por el usuario."
   ]
  },
  {
   "cell_type": "code",
   "execution_count": 64,
   "metadata": {},
   "outputs": [
    {
     "name": "stdout",
     "output_type": "stream",
     "text": [
      "Numero de terminos: 4\n",
      "3.5555555555555554\n"
     ]
    }
   ],
   "source": [
    "n = int(input(\"Numero de terminos: \"))\n",
    "if n <= 0:\n",
    "    print(\"Imposible\")\n",
    "else: \n",
    "    par = 2\n",
    "    impar = 1\n",
    "    pi = 1\n",
    "    usa2 = False\n",
    "    for i in range(0,n):\n",
    "        if i == 0:\n",
    "            pi = 2\n",
    "        else:\n",
    "            if usa2:\n",
    "                impar += 2\n",
    "                pi *= (par/impar)\n",
    "                par += 2\n",
    "                usa2 = False\n",
    "            else:\n",
    "                pi *= (par/impar)\n",
    "                usa2 = True\n",
    "    print(pi)\n",
    "        \n",
    "        "
   ]
  },
  {
   "cell_type": "markdown",
   "metadata": {},
   "source": [
    "28. El valor de e^x se puede aproximar por la suma\n",
    "\n",
    "1+x+(x^2/2!) + (x^3/3!) + (x^4/4!) + (x^5/5!) + (x^n/n!)\n",
    "\n",
    "Escribir un programa que tome un valor de x como entrada y visualice la suma para\n",
    "cada uno de los valores de 1 a 100."
   ]
  },
  {
   "cell_type": "code",
   "execution_count": 67,
   "metadata": {},
   "outputs": [
    {
     "name": "stdout",
     "output_type": "stream",
     "text": [
      "X: 5\n",
      "148.41315910257657\n"
     ]
    }
   ],
   "source": [
    "x = int(input(\"X: \"))\n",
    "def factorial(n):\n",
    "    fact = 1\n",
    "    for i in range(1, n+1):\n",
    "        fact *= i\n",
    "    return fact\n",
    "e = 1 \n",
    "for i in range(1,101):\n",
    "    e += (x**i/factorial(i))\n",
    "print(f\"{e}\")"
   ]
  },
  {
   "cell_type": "markdown",
   "metadata": {},
   "source": [
    "29. Calcular la suma de todos los elementos de un vector, así como la media aritmética."
   ]
  },
  {
   "cell_type": "code",
   "execution_count": 71,
   "metadata": {},
   "outputs": [
    {
     "name": "stdout",
     "output_type": "stream",
     "text": [
      "Tamano del vector: 2\n",
      "Elemento: 5\n",
      "Elemento: 4\n",
      "Suma: 9 Media: 4.5\n"
     ]
    }
   ],
   "source": [
    "N = int(input(\"Tamano del vector: \"))\n",
    "if N <= 0:\n",
    "    print(\"Imposible\")\n",
    "else:\n",
    "    numeros = []\n",
    "    while N > 0:\n",
    "        numero = int(input(\"Elemento: \"))\n",
    "        numeros.append(numero)\n",
    "        N -= 1\n",
    "    media = sum(numeros) / len(numeros)\n",
    "    print(f\"Suma: {sum(numeros)} Media: {media}\")\n"
   ]
  },
  {
   "cell_type": "markdown",
   "metadata": {},
   "source": [
    "30. Multiplicar dos matrices."
   ]
  },
  {
   "cell_type": "code",
   "execution_count": 77,
   "metadata": {},
   "outputs": [
    {
     "name": "stdout",
     "output_type": "stream",
     "text": [
      "Numero de filas de la primera matriz: 3\n",
      "Numero de columnas de la primera matriz: 3\n",
      "Valor posicion (1,1): 3\n",
      "Valor posicion (1,2): 2\n",
      "Valor posicion (1,3): 1\n",
      "Valor posicion (2,1): 1\n",
      "Valor posicion (2,2): 1\n",
      "Valor posicion (2,3): 3\n",
      "Valor posicion (3,1): 0\n",
      "Valor posicion (3,2): 2\n",
      "Valor posicion (3,3): 1\n",
      "Numero de filas de la segunda matriz: 3\n",
      "Numero de columnas de la segunda matriz: 2\n",
      "Valor posicion (1,1): 2\n",
      "Valor posicion (1,2): 1\n",
      "Valor posicion (2,1): 1\n",
      "Valor posicion (2,2): 0\n",
      "Valor posicion (3,1): 3\n",
      "Valor posicion (3,2): 2\n",
      "[[11.  5.]\n",
      " [12.  7.]\n",
      " [ 5.  2.]]\n"
     ]
    }
   ],
   "source": [
    "import numpy\n",
    "f1 = int(input(\"Numero de filas de la primera matriz: \"))\n",
    "c1 = int(input(\"Numero de columnas de la primera matriz: \"))\n",
    "m1 = numpy.zeros(shape=(f1,c1))\n",
    "for i in range(0,f1):\n",
    "    for y in range(0,c1):\n",
    "        valor = int(input(f\"Valor posicion ({i+1},{y+1}): \"))\n",
    "        m1[i,y] = valor\n",
    "f2 = int(input(\"Numero de filas de la segunda matriz: \"))\n",
    "c2 = int(input(\"Numero de columnas de la segunda matriz: \"))\n",
    "if c1 != f2:\n",
    "    print(\"No se pueden multiplicar estas matrices\")\n",
    "else:\n",
    "    m2 = numpy.zeros(shape=(f2,c2))\n",
    "    for i in range(0,f2):\n",
    "        for y in range(0,c2):\n",
    "            valor = int(input(f\"Valor posicion ({i+1},{y+1}): \"))\n",
    "            m2[i,y] = valor\n",
    "    mat = numpy.zeros(shape=(f1,c2))\n",
    "    for i in range(0,f1):\n",
    "        for y in range(0,c2):\n",
    "            for w in range(0,f2):\n",
    "                mat[i][y] += m1[i][w] * m2[w][y]\n",
    "    print(mat)\n"
   ]
  },
  {
   "cell_type": "code",
   "execution_count": null,
   "metadata": {},
   "outputs": [],
   "source": []
  }
 ],
 "metadata": {
  "kernelspec": {
   "display_name": "Python 3",
   "language": "python",
   "name": "python3"
  },
  "language_info": {
   "codemirror_mode": {
    "name": "ipython",
    "version": 3
   },
   "file_extension": ".py",
   "mimetype": "text/x-python",
   "name": "python",
   "nbconvert_exporter": "python",
   "pygments_lexer": "ipython3",
   "version": "3.7.4"
  }
 },
 "nbformat": 4,
 "nbformat_minor": 2
}
