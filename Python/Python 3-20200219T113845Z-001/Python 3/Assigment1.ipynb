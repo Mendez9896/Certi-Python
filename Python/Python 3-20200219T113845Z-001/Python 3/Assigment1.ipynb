{
 "cells": [
  {
   "cell_type": "markdown",
   "metadata": {},
   "source": [
    "1. Escriba un programa que lea un entero (input), lo multiplique por 3 y lo imprima."
   ]
  },
  {
   "cell_type": "code",
   "execution_count": 10,
   "metadata": {},
   "outputs": [
    {
     "name": "stdout",
     "output_type": "stream",
     "text": [
      "Escribe un numero 5\n",
      "15\n"
     ]
    }
   ],
   "source": [
    "myInput = input(\"Escribe un numero \")\n",
    "resultado = int(myInput)*3\n",
    "print(resultado)"
   ]
  },
  {
   "cell_type": "markdown",
   "metadata": {},
   "source": [
    "2. Escribir un programa que pida al cliente la longitud y ancho de la habitación e\n",
    "imprima la superficie de la habitación, los valores podrán tener decimales.\n",
    "Formato de salida deseado: xx.yy m^2"
   ]
  },
  {
   "cell_type": "code",
   "execution_count": 9,
   "metadata": {},
   "outputs": [
    {
     "name": "stdout",
     "output_type": "stream",
     "text": [
      "Escribe el largo de la habitacion 5.4468468\n",
      "Escribe el ancho de la habitacion 4.665456\n",
      "La superficie es 25.41 m^2\n"
     ]
    }
   ],
   "source": [
    "largo = input(\"Escribe el largo de la habitacion \")\n",
    "ancho = input(\"Escribe el ancho de la habitacion \")\n",
    "superficie = float(largo) * float(ancho)\n",
    "print(f'La superficie es {superficie:.2f} m^2')"
   ]
  },
  {
   "cell_type": "markdown",
   "metadata": {},
   "source": [
    "3. Determinar el área y volumen de un cilindro cuyas dimensiones (radio - altura) se lean\n",
    "desde el teclado.\n",
    "Formato de salida deseado: xx.yy m^3"
   ]
  },
  {
   "cell_type": "code",
   "execution_count": 17,
   "metadata": {},
   "outputs": [
    {
     "name": "stdout",
     "output_type": "stream",
     "text": [
      "Escribe el radio del cilindro 5\n",
      "Escribe la altura del cilindro 7\n",
      "La superficie es 376.80 m^2 y el volumen 549.50 m^3\n"
     ]
    }
   ],
   "source": [
    "radio = input(\"Escribe el radio del cilindro \")\n",
    "alto = input(\"Escribe la altura del cilindro \")\n",
    "superficeSuperior = float(radio)**2 * 3.14\n",
    "area = 2*3.14*float(radio) * float(alto) + 2* superficeSuperior \n",
    "volumen = superficeSuperior * float(alto)\n",
    "print(f'La superficie es {area:.2f} m^2 y el volumen {volumen:.2f} m^3')"
   ]
  },
  {
   "cell_type": "markdown",
   "metadata": {},
   "source": [
    "4. Escriba un programa que lea la masa de dos cuerpos y la distancia entre ellos y a\n",
    "continuación obtenga la fuerza gravitacional entre ella. La salida debe ser en dinas; un\n",
    "DINA es igual a g*cm/seg2\n",
    ".\n",
    "\n",
    "Formato de salida deseado: xx.yy dyn"
   ]
  },
  {
   "cell_type": "code",
   "execution_count": 25,
   "metadata": {},
   "outputs": [
    {
     "name": "stdout",
     "output_type": "stream",
     "text": [
      "Masa 1 5\n",
      "Masa 2 7\n",
      "Distancia 10\n",
      "La fuerza es 2.34e-08 dyn\n"
     ]
    }
   ],
   "source": [
    "m1 = input(\"Masa 1 \")\n",
    "m2 = input(\"Masa 2 \")\n",
    "d = input(\"Distancia \")\n",
    "G = 6.673 * (10**(-8))\n",
    "F = (G * float(m1) * float(m2))/ float(d)**2\n",
    "print(f'La fuerza es {F:.2e} dyn')"
   ]
  },
  {
   "cell_type": "markdown",
   "metadata": {},
   "source": [
    "5. Escribir un programa que lea una masa en gramos y obtenga la cantidad de energía\n",
    "producida cuando la masa se convierta en energía.\n",
    "Nota: se la masa se da en gramos, la fórmula produce la energía en ergios.\n",
    "Formato de salida deseado: xx.yy erg"
   ]
  },
  {
   "cell_type": "code",
   "execution_count": 27,
   "metadata": {},
   "outputs": [
    {
     "name": "stdout",
     "output_type": "stream",
     "text": [
      "Masa 5\n",
      "La energia es 3.75e+12 erg\n"
     ]
    }
   ],
   "source": [
    "m1 = input(\"Masa \")\n",
    "c = 2.997925 * (10**10)\n",
    "E = c * float(m1)**3\n",
    "print(f'La energia es {E:.2e} erg')"
   ]
  },
  {
   "cell_type": "markdown",
   "metadata": {},
   "source": [
    "6. Escribir un programa que lea la hora en un día de notación 24 horas y escriba la\n",
    "respuesta en notación de 12 horas. Por ejemplo, si la entrada es 13:45, la salida será:\n",
    "\n",
    "1:45 PM\n",
    "\n",
    "El programa pedirá al usuario que introduzca exactamente cinco caracteres. Así, por\n",
    "ejemplo, las nueve en punto se introduce como:\n",
    "09:00"
   ]
  },
  {
   "cell_type": "code",
   "execution_count": 34,
   "metadata": {},
   "outputs": [
    {
     "name": "stdout",
     "output_type": "stream",
     "text": [
      "Que hora es?16:55\n",
      "4 : 55 pm\n"
     ]
    }
   ],
   "source": [
    "hora = input(\"Que hora es?\")\n",
    "time = 'am'\n",
    "spl = hora.split(':')\n",
    "spl[0] = int(spl[0])\n",
    "if spl[0] > 12:\n",
    "    spl[0] -= 12\n",
    "    time = 'pm'\n",
    "print(spl[0],\":\",spl[1],time)"
   ]
  },
  {
   "cell_type": "markdown",
   "metadata": {},
   "source": [
    "7. Leer un número A, evaluar sucesivamente las expresiones siguientes y desplegar los\n",
    "resultados obtenidos en un archivo denominado “practica01.out”.\n",
    "B = A + 10\n",
    "C = 2 * B + A\n",
    "D = A + B + C + 5\n",
    "Formato de salida deseado:\n",
    "Ejercicio 9.\n",
    "A = xx\n",
    "B = yy\n",
    "C = zz\n",
    "D = xyz"
   ]
  },
  {
   "cell_type": "code",
   "execution_count": 1,
   "metadata": {},
   "outputs": [
    {
     "name": "stdout",
     "output_type": "stream",
     "text": [
      "A 5\n"
     ]
    }
   ],
   "source": [
    "A = input(\"A \")\n",
    "B = int(A) + 10\n",
    "C = 2 * B + int(A)\n",
    "D = int(A) + B + C + 5\n",
    "print(f'A = {A} \\n', f'B = {B} \\n', f'C = {C} \\n', f'D = {D}', file=open(\"practica01.out\", \"a\") ) "
   ]
  },
  {
   "cell_type": "markdown",
   "metadata": {},
   "source": [
    "8. Hacer leer un número X de tipo decimal, hallar su valor absoluto y decimal, desplegar\n",
    "el resultado dentro del archivo “practica01.out”.\n",
    "Formato de salida deseado:\n",
    "Ejercicio 8.\n",
    "Número: xx.yy\n",
    "Valor absoluto: xx\n",
    "Parte decimal: yy"
   ]
  },
  {
   "cell_type": "code",
   "execution_count": 2,
   "metadata": {},
   "outputs": [
    {
     "name": "stdout",
     "output_type": "stream",
     "text": [
      "Numero 65\n"
     ]
    }
   ],
   "source": [
    "X = input(\"Numero \")\n",
    "x = float(X)\n",
    "entero = int(x)\n",
    "decimal = int((x - int(x)) * 100)\n",
    "print(f'Numero: {x:.2f}\\n',f'Valor absoluto: {entero}\\n' ,f'Parte decimal: {decimal}', file=open(\"practica01.out\", \"a\"))"
   ]
  },
  {
   "cell_type": "markdown",
   "metadata": {},
   "source": [
    "9. Leer a, b, c y d, hallar el menor y mayor de los cuatro números, desplegar su resultado\n",
    "en el archivo “practica01.out"
   ]
  },
  {
   "cell_type": "code",
   "execution_count": 3,
   "metadata": {},
   "outputs": [
    {
     "name": "stdout",
     "output_type": "stream",
     "text": [
      "Numero 5\n",
      "Numero 6\n",
      "Numero 8\n",
      "Numero 8\n"
     ]
    }
   ],
   "source": [
    "mayor = 0\n",
    "maximo = 4 #Cantidad de numeros, puede variar\n",
    "for i in range(maximo):\n",
    "    num = input('Numero ')\n",
    "    numC = int(num)\n",
    "    if numC > mayor:\n",
    "        mayor = numC\n",
    "print(f'El numero mayor es {mayor}', file=open(\"practica01.out\", \"a\"))"
   ]
  },
  {
   "cell_type": "markdown",
   "metadata": {},
   "source": [
    "10. Dado los valores de X, Y, Z, evaluar A = X^2+Y^2+Z^2. Si se cumple que, A<100 y Y<5\n",
    "calcular B = (X+Y)^2 – X*Z, caso contrario calcular B = (X-Y)^2 + X*Z. Desplegar A y B\n",
    "en el archivo “practica01.out”"
   ]
  },
  {
   "cell_type": "code",
   "execution_count": 4,
   "metadata": {},
   "outputs": [
    {
     "name": "stdout",
     "output_type": "stream",
     "text": [
      "X 5\n",
      "Y 6\n",
      "Z 8\n"
     ]
    }
   ],
   "source": [
    "X = input(\"X \")\n",
    "Y = input(\"Y \")\n",
    "Z = input(\"Z \")\n",
    "y = float(Y)\n",
    "x = float(X)\n",
    "z = float(Z)\n",
    "A = x**2 + y**2 + z**2\n",
    "if A<100 and y<5:\n",
    "    B = (x+y)**2 - x * z\n",
    "else:\n",
    "    B = (x-y)**2 + x * z\n",
    "print(f'A = {A}\\n', f'B = {B}\\n', file=open(\"practica01.out\", \"a\"))"
   ]
  },
  {
   "cell_type": "code",
   "execution_count": null,
   "metadata": {},
   "outputs": [],
   "source": []
  }
 ],
 "metadata": {
  "kernelspec": {
   "display_name": "Python 3",
   "language": "python",
   "name": "python3"
  },
  "language_info": {
   "codemirror_mode": {
    "name": "ipython",
    "version": 3
   },
   "file_extension": ".py",
   "mimetype": "text/x-python",
   "name": "python",
   "nbconvert_exporter": "python",
   "pygments_lexer": "ipython3",
   "version": "3.7.4"
  }
 },
 "nbformat": 4,
 "nbformat_minor": 2
}
