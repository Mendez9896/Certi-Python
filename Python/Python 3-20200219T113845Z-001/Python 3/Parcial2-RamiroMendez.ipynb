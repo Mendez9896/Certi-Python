{
 "cells": [
  {
   "cell_type": "markdown",
   "metadata": {},
   "source": [
    "Ramiro Andres Mendez Salinas"
   ]
  },
  {
   "cell_type": "markdown",
   "metadata": {},
   "source": [
    "02-30"
   ]
  },
  {
   "cell_type": "code",
   "execution_count": 5,
   "metadata": {},
   "outputs": [
    {
     "name": "stdout",
     "output_type": "stream",
     "text": [
      "Escriba el primer valor de la sucesion: 1\n",
      "Escriba el segundo valor de la sucesion: 1\n",
      "Escriba el numero de valores a mostrar: 1\n",
      "Se deben mostrar al menos dos valores!\n"
     ]
    }
   ],
   "source": [
    "n1 = int(input(\"Escriba el primer valor de la sucesion: \"))\n",
    "n2 = int(input(\"Escriba el segundo valor de la sucesion: \"))\n",
    "c = int(input(\"Escriba el numero de valores a mostrar: \"))\n",
    "def fibo(x):\n",
    "    if x == 0:\n",
    "        return n1\n",
    "    elif x == 1:\n",
    "        return n2\n",
    "    else:\n",
    "        return fibo(x-1) + fibo(x-2)\n",
    "if c < 2:\n",
    "    print(\"Se deben mostrar al menos dos valores!\")\n",
    "else:\n",
    "    for i in range(c):\n",
    "        print(fibo(i), end = \" \")\n",
    "    "
   ]
  },
  {
   "cell_type": "markdown",
   "metadata": {},
   "source": [
    "04-30"
   ]
  },
  {
   "cell_type": "code",
   "execution_count": 21,
   "metadata": {},
   "outputs": [
    {
     "name": "stdout",
     "output_type": "stream",
     "text": [
      "5\n",
      "20 2\n",
      "10 1\n",
      "20 5\n",
      "7 5\n",
      "20 40\n",
      "6\n",
      "0\n",
      "7\n",
      "8\n",
      "42\n"
     ]
    }
   ],
   "source": [
    "L = int(input(\"\"))\n",
    "if L < 1 or L > 10:\n",
    "    print(\"Ingrese un numero del 1 al 10\")\n",
    "else:\n",
    "    N = []\n",
    "    K = []\n",
    "    bien = True\n",
    "    for i in range(L):\n",
    "        n,k = input(\"\").split()\n",
    "        if int(n) < 1 or int(k) > 50:\n",
    "            print(\"Uno de los datos esta mal\")\n",
    "            bien = False\n",
    "            break\n",
    "        else:\n",
    "            N.append(int(n))\n",
    "            K.append(int(k))\n",
    "    \n",
    "    for j in range(L):\n",
    "        suma = 0\n",
    "        for i in range(1,N[j]+1):\n",
    "            if N[j] % i == 0:\n",
    "                if i%K[j] != 0:\n",
    "                    suma += i\n",
    "        print(suma)\n",
    "                    \n",
    "        "
   ]
  },
  {
   "cell_type": "markdown",
   "metadata": {},
   "source": [
    "05-40"
   ]
  },
  {
   "cell_type": "code",
   "execution_count": 56,
   "metadata": {},
   "outputs": [
    {
     "name": "stdout",
     "output_type": "stream",
     "text": [
      "6\n",
      "Escalera 25 puntos ( 2 3 4 5 6 )\n",
      "2 cuadras 8 puntos ( 1 1 2 4 4 )\n",
      "2 tontos 4 puntos ( 1 2 2 3 4 )\n",
      "2 balas 2 puntos ( 1 1 4 5 6 )\n",
      "1 senas 6 puntos ( 1 2 4 5 6 )\n",
      "2 senas 12 puntos ( 1 2 5 6 6 )\n"
     ]
    }
   ],
   "source": [
    "from random import randrange\n",
    "L = int(input(\"\"))\n",
    "def grande(x):\n",
    "    es = True\n",
    "    par = x[0]\n",
    "    for i in range(1,5):\n",
    "        if x[i]!=par:\n",
    "            es = False\n",
    "            break   \n",
    "    return es\n",
    "def poker(x):\n",
    "    if (x[1] == x[2] and x[2] == x[3] and x[3] == x[4]) or (x[0] == x[1] and x[1] == x[2] and x[2] == x[3]):\n",
    "        return True\n",
    "    else:\n",
    "        return False\n",
    "def full(x):\n",
    "    if (x[0] == x[1] and x[2] == x[3] and x[3] == x[4]) or (x[0] == x[1] and x[1] == x[2] and x[3] == x[4]):\n",
    "        return True\n",
    "    else:\n",
    "        return False\n",
    "def contar(x):\n",
    "    mayor = 0\n",
    "    num = 0\n",
    "    for i in x:\n",
    "        if x.count(i) == mayor:\n",
    "            if i > num:\n",
    "                num = i\n",
    "        elif x.count(i) > mayor:\n",
    "            mayor = x.count(i)\n",
    "            num = i\n",
    "    if num == 1:\n",
    "        return print(f\"{mayor} balas {mayor*num} puntos\", end = \" \")\n",
    "    elif num == 2:\n",
    "        return print(f\"{mayor} tontos {mayor*num} puntos\", end = \" \")\n",
    "    elif num == 3:\n",
    "        return print(f\"{mayor} trenes {mayor*num} puntos\", end = \" \")\n",
    "    elif num == 4:\n",
    "        return print(f\"{mayor} cuadras {mayor*num} puntos\", end = \" \")\n",
    "    elif num == 5:\n",
    "        return print(f\"{mayor} quinas {mayor*num} puntos\", end = \" \")\n",
    "    else:\n",
    "        return print(f\"{mayor} senas {mayor*num} puntos\", end = \" \")\n",
    "\n",
    "    \n",
    "def escalera(x):\n",
    "    if (x[1] == x[0]+1 and x[2] == x[1]+1 and x[3] == x[2]+1) or (x[2] == x[1]+1 and x[3] == x[2]+1 and x[4] == x[3]+1):\n",
    "        return True\n",
    "    else:\n",
    "        return False\n",
    "if L < 1 or L > 50:\n",
    "    print(\"Ingrese un numero del 1 al 10\")\n",
    "else:\n",
    "    m = [[randrange(1,7) for i in range(5)] for j in range(L)]\n",
    "    for i in range(L):\n",
    "        m[i].sort()\n",
    "    for i in range(L):\n",
    "        if grande(m[i]):\n",
    "            print(f\"Grande 50 puntos (\",*m[i],\")\")\n",
    "        elif poker(m[i]):\n",
    "            print(f\"Poker 45 puntos (\",*m[i],\")\")\n",
    "        elif full(m[i]):\n",
    "            print(f\"Full 35 puntos (\",*m[i],\")\")\n",
    "        elif escalera(m[i]):\n",
    "            print(f\"Escalera 25 puntos (\",*m[i],\")\")\n",
    "        else:\n",
    "            contar(m[i])\n",
    "            print(\"(\",*m[i],\")\")"
   ]
  },
  {
   "cell_type": "code",
   "execution_count": null,
   "metadata": {},
   "outputs": [],
   "source": []
  }
 ],
 "metadata": {
  "kernelspec": {
   "display_name": "Python 3",
   "language": "python",
   "name": "python3"
  },
  "language_info": {
   "codemirror_mode": {
    "name": "ipython",
    "version": 3
   },
   "file_extension": ".py",
   "mimetype": "text/x-python",
   "name": "python",
   "nbconvert_exporter": "python",
   "pygments_lexer": "ipython3",
   "version": "3.7.4"
  }
 },
 "nbformat": 4,
 "nbformat_minor": 2
}
